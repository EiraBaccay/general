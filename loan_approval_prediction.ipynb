{
  "metadata" : {
    
  },
  "nbformat" : 4,
  "nbformat_minor" : 0,
  "cells" : [
    {
      "cell_type" : "markdown",
      "execution_count" : 0,
      "metadata" : {
        "language" : "text"
      },
      "language" : "text",
      "source" : [
        "# I. Data Loading and Cleaning\n",
        "***"
      ],
      "outputs" : [
      ]
    },
    {
      "cell_type" : "code",
      "execution_count" : 1,
      "metadata" : {
        "language" : "scala"
      },
      "language" : "scala",
      "source" : [
        "import pandas as pd\n",
        "import numpy as np\n",
        "from scipy import stats\n",
        "import matplotlib.pyplot as plt\n",
        "import seaborn as sns\n",
        "%matplotlib inline\n",
        "pd.set_option('display.max_columns', 100)"
      ],
      "outputs" : [
      ]
    },
    {
      "cell_type" : "markdown",
      "execution_count" : 2,
      "metadata" : {
        "language" : "text"
      },
      "language" : "text",
      "source" : [
        "## Dataset Description\n",
        "A list of German loan applications for various reasons. There are 20 independent variables about the applicant and their loan history. There is a target class denoting if the application was accepted or rejected."
      ],
      "outputs" : [
      ]
    },
    {
      "cell_type" : "code",
      "execution_count" : 3,
      "metadata" : {
        "language" : "scala"
      },
      "language" : "scala",
      "source" : [
        "df = pd.read_csv('credit_data_track2_part_2_1.csv')\n",
        "df.shape"
      ],
      "outputs" : [
        {
          "execution_count" : 3,
          "data" : {
            "text/plain" : [
              "(1000, 24)"
            ]
          },
          "metadata" : {
            "name" : "Out",
            "type" : ""
          },
          "output_type" : "execute_result"
        }
      ]
    },
    {
      "cell_type" : "code",
      "execution_count" : 4,
      "metadata" : {
        "language" : "scala"
      },
      "language" : "scala",
      "source" : [
        "df.head()"
      ],
      "outputs" : [
        {
          "execution_count" : 4,
          "data" : {
            "text/html" : [
              "<div>\n",
              "<style scoped>\n",
              "    .dataframe tbody tr th:only-of-type {\n",
              "        vertical-align: middle;\n",
              "    }\n",
              "\n",
              "    .dataframe tbody tr th {\n",
              "        vertical-align: top;\n",
              "    }\n",
              "\n",
              "    .dataframe thead th {\n",
              "        text-align: right;\n",
              "    }\n",
              "</style>\n",
              "<table border=\"1\" class=\"dataframe\">\n",
              "  <thead>\n",
              "    <tr style=\"text-align: right;\">\n",
              "      <th></th>\n",
              "      <th>Unnamed: 0</th>\n",
              "      <th>checking_status</th>\n",
              "      <th>duration</th>\n",
              "      <th>credit_history</th>\n",
              "      <th>purpose</th>\n",
              "      <th>credit_amount</th>\n",
              "      <th>savings_status</th>\n",
              "      <th>employment</th>\n",
              "      <th>installment_commitment</th>\n",
              "      <th>personal_status</th>\n",
              "      <th>other_parties</th>\n",
              "      <th>residence_since</th>\n",
              "      <th>property_magnitude</th>\n",
              "      <th>age</th>\n",
              "      <th>asnm</th>\n",
              "      <th>other_payment_plans</th>\n",
              "      <th>housing</th>\n",
              "      <th>existing_credits</th>\n",
              "      <th>job</th>\n",
              "      <th>num_dependents</th>\n",
              "      <th>own_telephone</th>\n",
              "      <th>foreign_worker</th>\n",
              "      <th>accepted</th>\n",
              "      <th>gender</th>\n",
              "    </tr>\n",
              "  </thead>\n",
              "  <tbody>\n",
              "    <tr>\n",
              "      <th>0</th>\n",
              "      <td>1</td>\n",
              "      <td>&lt;0DM</td>\n",
              "      <td>6</td>\n",
              "      <td>Critical_acct_other_credits_existing</td>\n",
              "      <td>radio/television</td>\n",
              "      <td>1169.0</td>\n",
              "      <td>Unknown_or_no_savings_acct</td>\n",
              "      <td>&gt;7yrs</td>\n",
              "      <td>4</td>\n",
              "      <td>male_single</td>\n",
              "      <td>None</td>\n",
              "      <td>4</td>\n",
              "      <td>real_estate</td>\n",
              "      <td>35</td>\n",
              "      <td>193</td>\n",
              "      <td>none</td>\n",
              "      <td>own</td>\n",
              "      <td>2</td>\n",
              "      <td>skilled_employee/official</td>\n",
              "      <td>1</td>\n",
              "      <td>yes</td>\n",
              "      <td>yes</td>\n",
              "      <td>0</td>\n",
              "      <td>male</td>\n",
              "    </tr>\n",
              "    <tr>\n",
              "      <th>1</th>\n",
              "      <td>2</td>\n",
              "      <td>0_to_200DM</td>\n",
              "      <td>48</td>\n",
              "      <td>Existing_credits_paid_till_now</td>\n",
              "      <td>radio/television</td>\n",
              "      <td>5951.0</td>\n",
              "      <td>&lt;100DM</td>\n",
              "      <td>1_to_4yrs</td>\n",
              "      <td>2</td>\n",
              "      <td>female_divorced/separated/married</td>\n",
              "      <td>None</td>\n",
              "      <td>2</td>\n",
              "      <td>real_estate</td>\n",
              "      <td>22</td>\n",
              "      <td>424</td>\n",
              "      <td>none</td>\n",
              "      <td>own</td>\n",
              "      <td>1</td>\n",
              "      <td>skilled_employee/official</td>\n",
              "      <td>1</td>\n",
              "      <td>none</td>\n",
              "      <td>yes</td>\n",
              "      <td>1</td>\n",
              "      <td>female</td>\n",
              "    </tr>\n",
              "    <tr>\n",
              "      <th>2</th>\n",
              "      <td>3</td>\n",
              "      <td>None</td>\n",
              "      <td>12</td>\n",
              "      <td>Critical_acct_other_credits_existing</td>\n",
              "      <td>education</td>\n",
              "      <td>2096.0</td>\n",
              "      <td>&lt;100DM</td>\n",
              "      <td>4_to_7yrs</td>\n",
              "      <td>2</td>\n",
              "      <td>male_single</td>\n",
              "      <td>None</td>\n",
              "      <td>3</td>\n",
              "      <td>real_estate</td>\n",
              "      <td>49</td>\n",
              "      <td>73</td>\n",
              "      <td>none</td>\n",
              "      <td>own</td>\n",
              "      <td>1</td>\n",
              "      <td>unskilled_resident</td>\n",
              "      <td>2</td>\n",
              "      <td>none</td>\n",
              "      <td>yes</td>\n",
              "      <td>0</td>\n",
              "      <td>male</td>\n",
              "    </tr>\n",
              "    <tr>\n",
              "      <th>3</th>\n",
              "      <td>4</td>\n",
              "      <td>&lt;0DM</td>\n",
              "      <td>42</td>\n",
              "      <td>Existing_credits_paid_till_now</td>\n",
              "      <td>furniture/equipment</td>\n",
              "      <td>7882.0</td>\n",
              "      <td>&lt;100DM</td>\n",
              "      <td>4_to_7yrs</td>\n",
              "      <td>2</td>\n",
              "      <td>male_single</td>\n",
              "      <td>guarantor</td>\n",
              "      <td>4</td>\n",
              "      <td>building_society_savings_agreement/life_insurance</td>\n",
              "      <td>45</td>\n",
              "      <td>33</td>\n",
              "      <td>none</td>\n",
              "      <td>for_free</td>\n",
              "      <td>1</td>\n",
              "      <td>skilled_employee/official</td>\n",
              "      <td>2</td>\n",
              "      <td>none</td>\n",
              "      <td>yes</td>\n",
              "      <td>0</td>\n",
              "      <td>male</td>\n",
              "    </tr>\n",
              "    <tr>\n",
              "      <th>4</th>\n",
              "      <td>5</td>\n",
              "      <td>&lt;0DM</td>\n",
              "      <td>24</td>\n",
              "      <td>Delay_in_past</td>\n",
              "      <td>new_car</td>\n",
              "      <td>4870.0</td>\n",
              "      <td>&lt;100DM</td>\n",
              "      <td>1_to_4yrs</td>\n",
              "      <td>3</td>\n",
              "      <td>male_single</td>\n",
              "      <td>None</td>\n",
              "      <td>4</td>\n",
              "      <td>unknown/no_property</td>\n",
              "      <td>53</td>\n",
              "      <td>145</td>\n",
              "      <td>none</td>\n",
              "      <td>for_free</td>\n",
              "      <td>2</td>\n",
              "      <td>skilled_employee/official</td>\n",
              "      <td>2</td>\n",
              "      <td>none</td>\n",
              "      <td>yes</td>\n",
              "      <td>1</td>\n",
              "      <td>male</td>\n",
              "    </tr>\n",
              "  </tbody>\n",
              "</table>\n",
              "</div>"
            ],
            "text/plain" : [
              "   Unnamed: 0 checking_status  duration                        credit_history  \\\n",
              "0           1            <0DM         6  Critical_acct_other_credits_existing   \n",
              "1           2      0_to_200DM        48        Existing_credits_paid_till_now   \n",
              "2           3            None        12  Critical_acct_other_credits_existing   \n",
              "3           4            <0DM        42        Existing_credits_paid_till_now   \n",
              "4           5            <0DM        24                         Delay_in_past   \n",
              "\n",
              "               purpose  credit_amount              savings_status employment  \\\n",
              "0     radio/television         1169.0  Unknown_or_no_savings_acct      >7yrs   \n",
              "1     radio/television         5951.0                      <100DM  1_to_4yrs   \n",
              "2            education         2096.0                      <100DM  4_to_7yrs   \n",
              "3  furniture/equipment         7882.0                      <100DM  4_to_7yrs   \n",
              "4              new_car         4870.0                      <100DM  1_to_4yrs   \n",
              "\n",
              "   installment_commitment                    personal_status other_parties  \\\n",
              "0                       4                        male_single          None   \n",
              "1                       2  female_divorced/separated/married          None   \n",
              "2                       2                        male_single          None   \n",
              "3                       2                        male_single     guarantor   \n",
              "4                       3                        male_single          None   \n",
              "\n",
              "   residence_since                                 property_magnitude  age  \\\n",
              "0                4                                        real_estate   35   \n",
              "1                2                                        real_estate   22   \n",
              "2                3                                        real_estate   49   \n",
              "3                4  building_society_savings_agreement/life_insurance   45   \n",
              "4                4                                unknown/no_property   53   \n",
              "\n",
              "   asnm other_payment_plans   housing  existing_credits  \\\n",
              "0   193                none       own                 2   \n",
              "1   424                none       own                 1   \n",
              "2    73                none       own                 1   \n",
              "3    33                none  for_free                 1   \n",
              "4   145                none  for_free                 2   \n",
              "\n",
              "                         job  num_dependents own_telephone foreign_worker  \\\n",
              "0  skilled_employee/official               1           yes            yes   \n",
              "1  skilled_employee/official               1          none            yes   \n",
              "2         unskilled_resident               2          none            yes   \n",
              "3  skilled_employee/official               2          none            yes   \n",
              "4  skilled_employee/official               2          none            yes   \n",
              "\n",
              "   accepted  gender  \n",
              "0         0    male  \n",
              "1         1  female  \n",
              "2         0    male  \n",
              "3         0    male  \n",
              "4         1    male  "
            ]
          },
          "metadata" : {
            "name" : "Out",
            "type" : ""
          },
          "output_type" : "execute_result"
        }
      ]
    },
    {
      "cell_type" : "code",
      "execution_count" : 5,
      "metadata" : {
        "language" : "scala"
      },
      "language" : "scala",
      "source" : [
        "# Given that the first column is redundant with the index, it can be dropped\n",
        "df = df.drop(df.columns[0], axis=1)\n",
        "df.head()"
      ],
      "outputs" : [
        {
          "execution_count" : 5,
          "data" : {
            "text/html" : [
              "<div>\n",
              "<style scoped>\n",
              "    .dataframe tbody tr th:only-of-type {\n",
              "        vertical-align: middle;\n",
              "    }\n",
              "\n",
              "    .dataframe tbody tr th {\n",
              "        vertical-align: top;\n",
              "    }\n",
              "\n",
              "    .dataframe thead th {\n",
              "        text-align: right;\n",
              "    }\n",
              "</style>\n",
              "<table border=\"1\" class=\"dataframe\">\n",
              "  <thead>\n",
              "    <tr style=\"text-align: right;\">\n",
              "      <th></th>\n",
              "      <th>checking_status</th>\n",
              "      <th>duration</th>\n",
              "      <th>credit_history</th>\n",
              "      <th>purpose</th>\n",
              "      <th>credit_amount</th>\n",
              "      <th>savings_status</th>\n",
              "      <th>employment</th>\n",
              "      <th>installment_commitment</th>\n",
              "      <th>personal_status</th>\n",
              "      <th>other_parties</th>\n",
              "      <th>residence_since</th>\n",
              "      <th>property_magnitude</th>\n",
              "      <th>age</th>\n",
              "      <th>asnm</th>\n",
              "      <th>other_payment_plans</th>\n",
              "      <th>housing</th>\n",
              "      <th>existing_credits</th>\n",
              "      <th>job</th>\n",
              "      <th>num_dependents</th>\n",
              "      <th>own_telephone</th>\n",
              "      <th>foreign_worker</th>\n",
              "      <th>accepted</th>\n",
              "      <th>gender</th>\n",
              "    </tr>\n",
              "  </thead>\n",
              "  <tbody>\n",
              "    <tr>\n",
              "      <th>0</th>\n",
              "      <td>&lt;0DM</td>\n",
              "      <td>6</td>\n",
              "      <td>Critical_acct_other_credits_existing</td>\n",
              "      <td>radio/television</td>\n",
              "      <td>1169.0</td>\n",
              "      <td>Unknown_or_no_savings_acct</td>\n",
              "      <td>&gt;7yrs</td>\n",
              "      <td>4</td>\n",
              "      <td>male_single</td>\n",
              "      <td>None</td>\n",
              "      <td>4</td>\n",
              "      <td>real_estate</td>\n",
              "      <td>35</td>\n",
              "      <td>193</td>\n",
              "      <td>none</td>\n",
              "      <td>own</td>\n",
              "      <td>2</td>\n",
              "      <td>skilled_employee/official</td>\n",
              "      <td>1</td>\n",
              "      <td>yes</td>\n",
              "      <td>yes</td>\n",
              "      <td>0</td>\n",
              "      <td>male</td>\n",
              "    </tr>\n",
              "    <tr>\n",
              "      <th>1</th>\n",
              "      <td>0_to_200DM</td>\n",
              "      <td>48</td>\n",
              "      <td>Existing_credits_paid_till_now</td>\n",
              "      <td>radio/television</td>\n",
              "      <td>5951.0</td>\n",
              "      <td>&lt;100DM</td>\n",
              "      <td>1_to_4yrs</td>\n",
              "      <td>2</td>\n",
              "      <td>female_divorced/separated/married</td>\n",
              "      <td>None</td>\n",
              "      <td>2</td>\n",
              "      <td>real_estate</td>\n",
              "      <td>22</td>\n",
              "      <td>424</td>\n",
              "      <td>none</td>\n",
              "      <td>own</td>\n",
              "      <td>1</td>\n",
              "      <td>skilled_employee/official</td>\n",
              "      <td>1</td>\n",
              "      <td>none</td>\n",
              "      <td>yes</td>\n",
              "      <td>1</td>\n",
              "      <td>female</td>\n",
              "    </tr>\n",
              "    <tr>\n",
              "      <th>2</th>\n",
              "      <td>None</td>\n",
              "      <td>12</td>\n",
              "      <td>Critical_acct_other_credits_existing</td>\n",
              "      <td>education</td>\n",
              "      <td>2096.0</td>\n",
              "      <td>&lt;100DM</td>\n",
              "      <td>4_to_7yrs</td>\n",
              "      <td>2</td>\n",
              "      <td>male_single</td>\n",
              "      <td>None</td>\n",
              "      <td>3</td>\n",
              "      <td>real_estate</td>\n",
              "      <td>49</td>\n",
              "      <td>73</td>\n",
              "      <td>none</td>\n",
              "      <td>own</td>\n",
              "      <td>1</td>\n",
              "      <td>unskilled_resident</td>\n",
              "      <td>2</td>\n",
              "      <td>none</td>\n",
              "      <td>yes</td>\n",
              "      <td>0</td>\n",
              "      <td>male</td>\n",
              "    </tr>\n",
              "    <tr>\n",
              "      <th>3</th>\n",
              "      <td>&lt;0DM</td>\n",
              "      <td>42</td>\n",
              "      <td>Existing_credits_paid_till_now</td>\n",
              "      <td>furniture/equipment</td>\n",
              "      <td>7882.0</td>\n",
              "      <td>&lt;100DM</td>\n",
              "      <td>4_to_7yrs</td>\n",
              "      <td>2</td>\n",
              "      <td>male_single</td>\n",
              "      <td>guarantor</td>\n",
              "      <td>4</td>\n",
              "      <td>building_society_savings_agreement/life_insurance</td>\n",
              "      <td>45</td>\n",
              "      <td>33</td>\n",
              "      <td>none</td>\n",
              "      <td>for_free</td>\n",
              "      <td>1</td>\n",
              "      <td>skilled_employee/official</td>\n",
              "      <td>2</td>\n",
              "      <td>none</td>\n",
              "      <td>yes</td>\n",
              "      <td>0</td>\n",
              "      <td>male</td>\n",
              "    </tr>\n",
              "    <tr>\n",
              "      <th>4</th>\n",
              "      <td>&lt;0DM</td>\n",
              "      <td>24</td>\n",
              "      <td>Delay_in_past</td>\n",
              "      <td>new_car</td>\n",
              "      <td>4870.0</td>\n",
              "      <td>&lt;100DM</td>\n",
              "      <td>1_to_4yrs</td>\n",
              "      <td>3</td>\n",
              "      <td>male_single</td>\n",
              "      <td>None</td>\n",
              "      <td>4</td>\n",
              "      <td>unknown/no_property</td>\n",
              "      <td>53</td>\n",
              "      <td>145</td>\n",
              "      <td>none</td>\n",
              "      <td>for_free</td>\n",
              "      <td>2</td>\n",
              "      <td>skilled_employee/official</td>\n",
              "      <td>2</td>\n",
              "      <td>none</td>\n",
              "      <td>yes</td>\n",
              "      <td>1</td>\n",
              "      <td>male</td>\n",
              "    </tr>\n",
              "  </tbody>\n",
              "</table>\n",
              "</div>"
            ],
            "text/plain" : [
              "  checking_status  duration                        credit_history  \\\n",
              "0            <0DM         6  Critical_acct_other_credits_existing   \n",
              "1      0_to_200DM        48        Existing_credits_paid_till_now   \n",
              "2            None        12  Critical_acct_other_credits_existing   \n",
              "3            <0DM        42        Existing_credits_paid_till_now   \n",
              "4            <0DM        24                         Delay_in_past   \n",
              "\n",
              "               purpose  credit_amount              savings_status employment  \\\n",
              "0     radio/television         1169.0  Unknown_or_no_savings_acct      >7yrs   \n",
              "1     radio/television         5951.0                      <100DM  1_to_4yrs   \n",
              "2            education         2096.0                      <100DM  4_to_7yrs   \n",
              "3  furniture/equipment         7882.0                      <100DM  4_to_7yrs   \n",
              "4              new_car         4870.0                      <100DM  1_to_4yrs   \n",
              "\n",
              "   installment_commitment                    personal_status other_parties  \\\n",
              "0                       4                        male_single          None   \n",
              "1                       2  female_divorced/separated/married          None   \n",
              "2                       2                        male_single          None   \n",
              "3                       2                        male_single     guarantor   \n",
              "4                       3                        male_single          None   \n",
              "\n",
              "   residence_since                                 property_magnitude  age  \\\n",
              "0                4                                        real_estate   35   \n",
              "1                2                                        real_estate   22   \n",
              "2                3                                        real_estate   49   \n",
              "3                4  building_society_savings_agreement/life_insurance   45   \n",
              "4                4                                unknown/no_property   53   \n",
              "\n",
              "   asnm other_payment_plans   housing  existing_credits  \\\n",
              "0   193                none       own                 2   \n",
              "1   424                none       own                 1   \n",
              "2    73                none       own                 1   \n",
              "3    33                none  for_free                 1   \n",
              "4   145                none  for_free                 2   \n",
              "\n",
              "                         job  num_dependents own_telephone foreign_worker  \\\n",
              "0  skilled_employee/official               1           yes            yes   \n",
              "1  skilled_employee/official               1          none            yes   \n",
              "2         unskilled_resident               2          none            yes   \n",
              "3  skilled_employee/official               2          none            yes   \n",
              "4  skilled_employee/official               2          none            yes   \n",
              "\n",
              "   accepted  gender  \n",
              "0         0    male  \n",
              "1         1  female  \n",
              "2         0    male  \n",
              "3         0    male  \n",
              "4         1    male  "
            ]
          },
          "metadata" : {
            "name" : "Out",
            "type" : ""
          },
          "output_type" : "execute_result"
        }
      ]
    },
    {
      "cell_type" : "code",
      "execution_count" : 6,
      "metadata" : {
        "language" : "scala"
      },
      "language" : "scala",
      "source" : [
        "# Checking for missing values\n",
        "df.isna().sum()"
      ],
      "outputs" : [
        {
          "execution_count" : 6,
          "data" : {
            "text/plain" : [
              "checking_status           0\n",
              "duration                  0\n",
              "credit_history            0\n",
              "purpose                   0\n",
              "credit_amount             1\n",
              "savings_status            0\n",
              "employment                0\n",
              "installment_commitment    0\n",
              "personal_status           0\n",
              "other_parties             0\n",
              "residence_since           0\n",
              "property_magnitude        0\n",
              "age                       0\n",
              "asnm                      0\n",
              "other_payment_plans       0\n",
              "housing                   0\n",
              "existing_credits          0\n",
              "job                       0\n",
              "num_dependents            0\n",
              "own_telephone             0\n",
              "foreign_worker            0\n",
              "accepted                  0\n",
              "gender                    0\n",
              "dtype: int64"
            ]
          },
          "metadata" : {
            "name" : "Out",
            "type" : ""
          },
          "output_type" : "execute_result"
        }
      ]
    },
    {
      "cell_type" : "code",
      "execution_count" : 7,
      "metadata" : {
        "language" : "scala"
      },
      "language" : "scala",
      "source" : [
        "# Dropping the row with a missing value\n",
        "df = df.dropna(axis=0)\n",
        "df.shape"
      ],
      "outputs" : [
        {
          "execution_count" : 7,
          "data" : {
            "text/plain" : [
              "(999, 23)"
            ]
          },
          "metadata" : {
            "name" : "Out",
            "type" : ""
          },
          "output_type" : "execute_result"
        }
      ]
    },
    {
      "cell_type" : "code",
      "execution_count" : 8,
      "metadata" : {
        "language" : "scala"
      },
      "language" : "scala",
      "source" : [
        "df.info()"
      ],
      "outputs" : [
        {
          "name" : "stdout",
          "text" : [
            "<class 'pandas.core.frame.DataFrame'>\n",
            "Int64Index: 999 entries, 0 to 999\n",
            "Data columns (total 23 columns):\n",
            "checking_status           999 non-null object\n",
            "duration                  999 non-null int64\n",
            "credit_history            999 non-null object\n",
            "purpose                   999 non-null object\n",
            "credit_amount             999 non-null float64\n",
            "savings_status            999 non-null object\n",
            "employment                999 non-null object\n",
            "installment_commitment    999 non-null int64\n",
            "personal_status           999 non-null object\n",
            "other_parties             999 non-null object\n",
            "residence_since           999 non-null int64\n",
            "property_magnitude        999 non-null object\n",
            "age                       999 non-null int64\n",
            "asnm                      999 non-null int64\n",
            "other_payment_plans       999 non-null object\n",
            "housing                   999 non-null object\n",
            "existing_credits          999 non-null int64\n",
            "job                       999 non-null object\n",
            "num_dependents            999 non-null int64\n",
            "own_telephone             999 non-null object\n",
            "foreign_worker            999 non-null object\n",
            "accepted                  999 non-null int64\n",
            "gender                    999 non-null object\n",
            "dtypes: float64(1), int64(8), object(14)\n",
            "memory usage: 187.3+ KB\n"
          ],
          "output_type" : "stream"
        }
      ]
    },
    {
      "cell_type" : "markdown",
      "execution_count" : 9,
      "metadata" : {
        "language" : "text"
      },
      "language" : "text",
      "source" : [
        "## Variables"
      ],
      "outputs" : [
      ]
    },
    {
      "cell_type" : "markdown",
      "execution_count" : 10,
      "metadata" : {
        "language" : "text"
      },
      "language" : "text",
      "source" : [
        "A. **Numeric**\n",
        "\n",
        "1. Continuous\n",
        "> - duration\n",
        "> - credit_amount\n",
        "> - age\n",
        "> - asnm\n",
        "> - num_dependents\n",
        "2. Discrete\n",
        "> - installment_commitment\n",
        "> - residence_since\n",
        "> - existing_credits\n",
        "> - accepted\n",
        "\n",
        "B. **Categorical**\n",
        "1. Dichotomous\n",
        "> - own_telephone\n",
        "> - foreign_worker\n",
        "> - gender\n",
        "2. Others\n",
        "> - checking_status\n",
        "> - credit_history\n",
        "> - purpose\n",
        "> - savings_status\n",
        "> - employment\n",
        "> - personal_status\n",
        "> - other_parties\n",
        "> - property_magnitude\n",
        "> - other_payment_plans\n",
        "> - housing\n",
        "> - job\n"
      ],
      "outputs" : [
      ]
    },
    {
      "cell_type" : "markdown",
      "execution_count" : 11,
      "metadata" : {
        "language" : "text"
      },
      "language" : "text",
      "source" : [
        "# II. Exploratory Data Analysis and Data Visualization\n",
        "***"
      ],
      "outputs" : [
      ]
    },
    {
      "cell_type" : "code",
      "execution_count" : 12,
      "metadata" : {
        "language" : "scala"
      },
      "language" : "scala",
      "source" : [
        "df.describe()"
      ],
      "outputs" : [
        {
          "execution_count" : 12,
          "data" : {
            "text/html" : [
              "<div>\n",
              "<style scoped>\n",
              "    .dataframe tbody tr th:only-of-type {\n",
              "        vertical-align: middle;\n",
              "    }\n",
              "\n",
              "    .dataframe tbody tr th {\n",
              "        vertical-align: top;\n",
              "    }\n",
              "\n",
              "    .dataframe thead th {\n",
              "        text-align: right;\n",
              "    }\n",
              "</style>\n",
              "<table border=\"1\" class=\"dataframe\">\n",
              "  <thead>\n",
              "    <tr style=\"text-align: right;\">\n",
              "      <th></th>\n",
              "      <th>duration</th>\n",
              "      <th>credit_amount</th>\n",
              "      <th>installment_commitment</th>\n",
              "      <th>residence_since</th>\n",
              "      <th>age</th>\n",
              "      <th>asnm</th>\n",
              "      <th>existing_credits</th>\n",
              "      <th>num_dependents</th>\n",
              "      <th>accepted</th>\n",
              "    </tr>\n",
              "  </thead>\n",
              "  <tbody>\n",
              "    <tr>\n",
              "      <th>count</th>\n",
              "      <td>999.000000</td>\n",
              "      <td>999.000000</td>\n",
              "      <td>999.000000</td>\n",
              "      <td>999.000000</td>\n",
              "      <td>999.000000</td>\n",
              "      <td>999.000000</td>\n",
              "      <td>999.000000</td>\n",
              "      <td>999.000000</td>\n",
              "      <td>999.000000</td>\n",
              "    </tr>\n",
              "    <tr>\n",
              "      <th>mean</th>\n",
              "      <td>20.911912</td>\n",
              "      <td>3273.236236</td>\n",
              "      <td>2.972973</td>\n",
              "      <td>2.846847</td>\n",
              "      <td>35.525526</td>\n",
              "      <td>193.821822</td>\n",
              "      <td>1.407407</td>\n",
              "      <td>1.155155</td>\n",
              "      <td>0.299299</td>\n",
              "    </tr>\n",
              "    <tr>\n",
              "      <th>std</th>\n",
              "      <td>12.061559</td>\n",
              "      <td>2823.457091</td>\n",
              "      <td>1.119275</td>\n",
              "      <td>1.102724</td>\n",
              "      <td>11.046227</td>\n",
              "      <td>157.074508</td>\n",
              "      <td>0.577800</td>\n",
              "      <td>0.362234</td>\n",
              "      <td>0.458180</td>\n",
              "    </tr>\n",
              "    <tr>\n",
              "      <th>min</th>\n",
              "      <td>4.000000</td>\n",
              "      <td>250.000000</td>\n",
              "      <td>1.000000</td>\n",
              "      <td>1.000000</td>\n",
              "      <td>19.000000</td>\n",
              "      <td>24.000000</td>\n",
              "      <td>1.000000</td>\n",
              "      <td>1.000000</td>\n",
              "      <td>0.000000</td>\n",
              "    </tr>\n",
              "    <tr>\n",
              "      <th>25%</th>\n",
              "      <td>12.000000</td>\n",
              "      <td>1368.500000</td>\n",
              "      <td>2.000000</td>\n",
              "      <td>2.000000</td>\n",
              "      <td>27.000000</td>\n",
              "      <td>60.000000</td>\n",
              "      <td>1.000000</td>\n",
              "      <td>1.000000</td>\n",
              "      <td>0.000000</td>\n",
              "    </tr>\n",
              "    <tr>\n",
              "      <th>50%</th>\n",
              "      <td>18.000000</td>\n",
              "      <td>2320.000000</td>\n",
              "      <td>3.000000</td>\n",
              "      <td>3.000000</td>\n",
              "      <td>34.000000</td>\n",
              "      <td>168.000000</td>\n",
              "      <td>1.000000</td>\n",
              "      <td>1.000000</td>\n",
              "      <td>0.000000</td>\n",
              "    </tr>\n",
              "    <tr>\n",
              "      <th>75%</th>\n",
              "      <td>24.000000</td>\n",
              "      <td>3972.500000</td>\n",
              "      <td>4.000000</td>\n",
              "      <td>4.000000</td>\n",
              "      <td>41.000000</td>\n",
              "      <td>280.000000</td>\n",
              "      <td>2.000000</td>\n",
              "      <td>1.000000</td>\n",
              "      <td>1.000000</td>\n",
              "    </tr>\n",
              "    <tr>\n",
              "      <th>max</th>\n",
              "      <td>72.000000</td>\n",
              "      <td>18424.000000</td>\n",
              "      <td>4.000000</td>\n",
              "      <td>4.000000</td>\n",
              "      <td>75.000000</td>\n",
              "      <td>1113.000000</td>\n",
              "      <td>4.000000</td>\n",
              "      <td>2.000000</td>\n",
              "      <td>1.000000</td>\n",
              "    </tr>\n",
              "  </tbody>\n",
              "</table>\n",
              "</div>"
            ],
            "text/plain" : [
              "         duration  credit_amount  installment_commitment  residence_since  \\\n",
              "count  999.000000     999.000000              999.000000       999.000000   \n",
              "mean    20.911912    3273.236236                2.972973         2.846847   \n",
              "std     12.061559    2823.457091                1.119275         1.102724   \n",
              "min      4.000000     250.000000                1.000000         1.000000   \n",
              "25%     12.000000    1368.500000                2.000000         2.000000   \n",
              "50%     18.000000    2320.000000                3.000000         3.000000   \n",
              "75%     24.000000    3972.500000                4.000000         4.000000   \n",
              "max     72.000000   18424.000000                4.000000         4.000000   \n",
              "\n",
              "              age         asnm  existing_credits  num_dependents    accepted  \n",
              "count  999.000000   999.000000        999.000000      999.000000  999.000000  \n",
              "mean    35.525526   193.821822          1.407407        1.155155    0.299299  \n",
              "std     11.046227   157.074508          0.577800        0.362234    0.458180  \n",
              "min     19.000000    24.000000          1.000000        1.000000    0.000000  \n",
              "25%     27.000000    60.000000          1.000000        1.000000    0.000000  \n",
              "50%     34.000000   168.000000          1.000000        1.000000    0.000000  \n",
              "75%     41.000000   280.000000          2.000000        1.000000    1.000000  \n",
              "max     75.000000  1113.000000          4.000000        2.000000    1.000000  "
            ]
          },
          "metadata" : {
            "name" : "Out",
            "type" : ""
          },
          "output_type" : "execute_result"
        }
      ]
    },
    {
      "cell_type" : "code",
      "execution_count" : 13,
      "metadata" : {
        "language" : "scala"
      },
      "language" : "scala",
      "source" : [
        "df.boxplot(by='accepted', column='credit_amount', figsize=(5,5))\n",
        "plt.title('Credit Amount of Rejected and Accepted Applicants')\n",
        "plt.suptitle('')\n",
        "plt.xlabel('')\n",
        "plt.xticks([1, 2], ['Rejected', 'Accepted'])\n",
        "plt.show()"
      ],
      "outputs" : [
        {
          "data" : {
            "image/png" : "[encoded data removed]"
          },
          "output_type" : "display_data"
        }
      ]
    },
    {
      "cell_type" : "markdown",
      "execution_count" : 14,
      "metadata" : {
        "language" : "text"
      },
      "language" : "text",
      "source" : [
        "Based on the boxplot above, the range of the credit amounts of the accepted applicants is wider. It also shows that the mean and the upper quartile credit amounts of the accepted applicants are higher than the rejected applicants."
      ],
      "outputs" : [
      ]
    },
    {
      "cell_type" : "code",
      "execution_count" : 15,
      "metadata" : {
        "language" : "scala"
      },
      "language" : "scala",
      "source" : [
        "fig = plt.figure(figsize=(10,5),)\n",
        "ax=sns.kdeplot(df.loc[(df['accepted'] == 0),'age'] , color='orange',shade=True,label='Rejected')\n",
        "ax=sns.kdeplot(df.loc[(df['accepted'] == 1),'age'] , color='b',shade=True, label='Accepted')\n",
        "plt.title('Age Distribution of Rejected and Accepted Applicants')\n",
        "plt.xlabel(\"Age\")\n",
        "plt.ylabel('Frequency');"
      ],
      "outputs" : [
        {
          "data" : {
            "image/png" : "[encoded data removed]"
          },
          "output_type" : "display_data"
        }
      ]
    },
    {
      "cell_type" : "markdown",
      "execution_count" : 16,
      "metadata" : {
        "language" : "text"
      },
      "language" : "text",
      "source" : [
        "At first glance, the plot above shows that the difference of the age distribution of rejeceted and accepted applicants is not significant. However, we can see that the most common age in accepted applicants is lower than the most common age in the rejected applicants."
      ],
      "outputs" : [
      ]
    },
    {
      "cell_type" : "code",
      "execution_count" : 17,
      "metadata" : {
        "language" : "scala"
      },
      "language" : "scala",
      "source" : [
        "plt.figure(figsize=(9,5))\n",
        "df.groupby('purpose')['purpose'].count().sort_values(ascending=False).head(5).plot.bar()\n",
        "plt.xticks(rotation=0)\n",
        "plt.title('Most Common Purpose for Loan Applications')\n",
        "plt.show()"
      ],
      "outputs" : [
        {
          "data" : {
            "image/png" : "[encoded data removed]"
          },
          "output_type" : "display_data"
        }
      ]
    },
    {
      "cell_type" : "markdown",
      "execution_count" : 18,
      "metadata" : {
        "language" : "text"
      },
      "language" : "text",
      "source" : [
        "The bar plot above shows the top five purposes for the loan applications lead by **radio/television**. However, the most accepted loan applications are for the purposes of buying a **new car** as shown by the plot below."
      ],
      "outputs" : [
      ]
    },
    {
      "cell_type" : "code",
      "execution_count" : 19,
      "metadata" : {
        "language" : "scala"
      },
      "language" : "scala",
      "source" : [
        "plt.figure(figsize=(9,5))\n",
        "df.groupby('purpose')['accepted'].sum().sort_values(ascending=False).head(5).plot.bar()\n",
        "plt.xticks(rotation=0)\n",
        "plt.title('Most Common Purpose for Accepted Loan Applications')\n",
        "plt.show()"
      ],
      "outputs" : [
        {
          "data" : {
            "image/png" : "[encoded data removed]"
          },
          "output_type" : "display_data"
        }
      ]
    },
    {
      "cell_type" : "markdown",
      "execution_count" : 20,
      "metadata" : {
        "language" : "text"
      },
      "language" : "text",
      "source" : [
        "# III. Hypothesis Testing \n",
        "***"
      ],
      "outputs" : [
      ]
    },
    {
      "cell_type" : "markdown",
      "execution_count" : 21,
      "metadata" : {
        "language" : "text"
      },
      "language" : "text",
      "source" : [
        "## Correlations"
      ],
      "outputs" : [
      ]
    },
    {
      "cell_type" : "code",
      "execution_count" : 22,
      "metadata" : {
        "language" : "scala"
      },
      "language" : "scala",
      "source" : [
        "# Changing all dichotomous variables into numeric\n",
        "df['gender'] = df['gender'].replace('female', 1)\n",
        "df['gender'] = df['gender'].replace('male', 0)\n",
        "df['own_telephone'] = df['own_telephone'].replace('yes', 1)\n",
        "df['own_telephone'] = df['own_telephone'].replace('none', 0)\n",
        "df['foreign_worker'] = df['foreign_worker'].replace('yes', 1)\n",
        "df['foreign_worker'] = df['foreign_worker'].replace('no', 0)"
      ],
      "outputs" : [
      ]
    },
    {
      "cell_type" : "code",
      "execution_count" : 23,
      "metadata" : {
        "language" : "scala"
      },
      "language" : "scala",
      "source" : [
        "corr = df.corr()\n",
        "corr['accepted'].sort_values(ascending=False)"
      ],
      "outputs" : [
        {
          "execution_count" : 23,
          "data" : {
            "text/plain" : [
              "accepted                  1.000000\n",
              "duration                  0.216368\n",
              "credit_amount             0.156030\n",
              "foreign_worker            0.081877\n",
              "asnm                      0.078737\n",
              "gender                    0.073379\n",
              "installment_commitment    0.072452\n",
              "residence_since           0.005539\n",
              "num_dependents           -0.002363\n",
              "own_telephone            -0.035260\n",
              "existing_credits         -0.044718\n",
              "age                      -0.091492\n",
              "Name: accepted, dtype: float64"
            ]
          },
          "metadata" : {
            "name" : "Out",
            "type" : ""
          },
          "output_type" : "execute_result"
        }
      ]
    },
    {
      "cell_type" : "markdown",
      "execution_count" : 24,
      "metadata" : {
        "language" : "text"
      },
      "language" : "text",
      "source" : [
        "Based on this, we will look at the relationship of **duration** and **credit_amount** with acceptance."
      ],
      "outputs" : [
      ]
    },
    {
      "cell_type" : "markdown",
      "execution_count" : 25,
      "metadata" : {
        "language" : "text"
      },
      "language" : "text",
      "source" : [
        "### Is there a significant difference in the duration of the loan between accepted and rejected applications?\n",
        "\n",
        "* **Null Hypothesis**: There is no significant difference in the duration of the loan between accepted and rejected applications\n",
        "* **Alternative Hypotehesis**: There is a significant difference in the duration of the loan between accepted and rejected applications"
      ],
      "outputs" : [
      ]
    },
    {
      "cell_type" : "code",
      "execution_count" : 26,
      "metadata" : {
        "language" : "scala"
      },
      "language" : "scala",
      "source" : [
        "accepted_meanduration = df[df['accepted']==1]['duration'].mean()\n",
        "rejected_meanduration = df[df['accepted']==0]['duration'].mean()\n",
        "print(\"The mean loan duration of accepted applications is\", round(accepted_meanduration, 2))\n",
        "print(\"The mean loan duration of rejected applications is\", round(rejected_meanduration, 2))\n",
        "print(\"The difference between the two is\", round(accepted_meanduration - rejected_meanduration,2))"
      ],
      "outputs" : [
        {
          "name" : "stdout",
          "text" : [
            "The mean loan duration of accepted applications is 24.9\n",
            "The mean loan duration of rejected applications is 19.21\n",
            "The difference between the two is 5.7\n"
          ],
          "output_type" : "stream"
        }
      ]
    },
    {
      "cell_type" : "code",
      "execution_count" : 27,
      "metadata" : {
        "language" : "scala"
      },
      "language" : "scala",
      "source" : [
        "accepted = np.array(df[df['accepted']==1]['duration'])\n",
        "rejected = np.array(df[df['accepted']==0]['duration'])"
      ],
      "outputs" : [
      ]
    },
    {
      "cell_type" : "code",
      "execution_count" : 28,
      "metadata" : {
        "language" : "scala"
      },
      "language" : "scala",
      "source" : [
        "# Performing t-test\n",
        "stats.ttest_ind(accepted, rejected)"
      ],
      "outputs" : [
        {
          "execution_count" : 28,
          "data" : {
            "text/plain" : [
              "Ttest_indResult(statistic=6.9976465535346355, pvalue=4.7715527836052615e-12)"
            ]
          },
          "metadata" : {
            "name" : "Out",
            "type" : ""
          },
          "output_type" : "execute_result"
        }
      ]
    },
    {
      "cell_type" : "markdown",
      "execution_count" : 29,
      "metadata" : {
        "language" : "text"
      },
      "language" : "text",
      "source" : [
        "Since p_value is way below 0.05, we can rule out our null hypothesis and conclude that **\"There is a significant difference in the duration of the loan between accepted and rejected applications.\"**"
      ],
      "outputs" : [
      ]
    },
    {
      "cell_type" : "markdown",
      "execution_count" : 30,
      "metadata" : {
        "language" : "text"
      },
      "language" : "text",
      "source" : [
        "### Is there a significant difference in the mean credit amount of the applicant between accepted and rejected loan applications?\n",
        "\n",
        "* **Null Hypothesis**: There is no significant difference in the mean credit amount of accepted and rejected applicants.\n",
        "* **Alternative Hypotehesis**: There is a significant difference in the mean credit amount of accepted and rejected applicants."
      ],
      "outputs" : [
      ]
    },
    {
      "cell_type" : "code",
      "execution_count" : 31,
      "metadata" : {
        "language" : "scala"
      },
      "language" : "scala",
      "source" : [
        "accepted_meancredit = df[df['accepted']==1]['credit_amount'].mean()\n",
        "rejected_meancredit = df[df['accepted']==0]['credit_amount'].mean()\n",
        "print(\"The mean credit amount of accepted applicants is\", round(accepted_meancredit, 2))\n",
        "print(\"The mean credit amount of rejected applicants is\", round(rejected_meancredit, 2))\n",
        "print(\"The difference between the two is\", round(accepted_meancredit - rejected_meancredit, 2))"
      ],
      "outputs" : [
        {
          "name" : "stdout",
          "text" : [
            "The mean credit amount of accepted applicants is 3946.97\n",
            "The mean credit amount of rejected applicants is 2985.46\n",
            "The difference between the two is 961.51\n"
          ],
          "output_type" : "stream"
        }
      ]
    },
    {
      "cell_type" : "code",
      "execution_count" : 32,
      "metadata" : {
        "language" : "scala"
      },
      "language" : "scala",
      "source" : [
        "accepted = np.array(df[df['accepted']==1]['credit_amount'])\n",
        "rejected = np.array(df[df['accepted']==0]['credit_amount'])"
      ],
      "outputs" : [
      ]
    },
    {
      "cell_type" : "code",
      "execution_count" : 33,
      "metadata" : {
        "language" : "scala"
      },
      "language" : "scala",
      "source" : [
        "# Performing t-test\n",
        "stats.ttest_ind(accepted, rejected)"
      ],
      "outputs" : [
        {
          "execution_count" : 33,
          "data" : {
            "text/plain" : [
              "Ttest_indResult(statistic=4.987793794559396, pvalue=7.201398640637029e-07)"
            ]
          },
          "metadata" : {
            "name" : "Out",
            "type" : ""
          },
          "output_type" : "execute_result"
        }
      ]
    },
    {
      "cell_type" : "markdown",
      "execution_count" : 34,
      "metadata" : {
        "language" : "text"
      },
      "language" : "text",
      "source" : [
        "Since p_value is way below 0.05, we can rule out our null hypothesis and conclude that **\"There is a significant difference in the mean credit amount of accepted and rejected applicants.\"**"
      ],
      "outputs" : [
      ]
    },
    {
      "cell_type" : "markdown",
      "execution_count" : 35,
      "metadata" : {
        "language" : "text"
      },
      "language" : "text",
      "source" : [
        "# IV. Pre-Modelling\n",
        "***"
      ],
      "outputs" : [
      ]
    },
    {
      "cell_type" : "markdown",
      "execution_count" : 36,
      "metadata" : {
        "language" : "text"
      },
      "language" : "text",
      "source" : [
        "## Creating Dummy Variables"
      ],
      "outputs" : [
      ]
    },
    {
      "cell_type" : "code",
      "execution_count" : 37,
      "metadata" : {
        "language" : "scala"
      },
      "language" : "scala",
      "source" : [
        "data = pd.get_dummies(df, columns=['checking_status', 'credit_history', 'purpose', 'savings_status', 'employment', \\\n",
        "                                    'personal_status', 'other_parties', 'property_magnitude', 'other_payment_plans', \\\n",
        "                                    'housing', 'job'], drop_first=False)"
      ],
      "outputs" : [
      ]
    },
    {
      "cell_type" : "code",
      "execution_count" : 38,
      "metadata" : {
        "language" : "scala"
      },
      "language" : "scala",
      "source" : [
        "data.head()"
      ],
      "outputs" : [
        {
          "execution_count" : 38,
          "data" : {
            "text/html" : [
              "<div>\n",
              "<style scoped>\n",
              "    .dataframe tbody tr th:only-of-type {\n",
              "        vertical-align: middle;\n",
              "    }\n",
              "\n",
              "    .dataframe tbody tr th {\n",
              "        vertical-align: top;\n",
              "    }\n",
              "\n",
              "    .dataframe thead th {\n",
              "        text-align: right;\n",
              "    }\n",
              "</style>\n",
              "<table border=\"1\" class=\"dataframe\">\n",
              "  <thead>\n",
              "    <tr style=\"text-align: right;\">\n",
              "      <th></th>\n",
              "      <th>duration</th>\n",
              "      <th>credit_amount</th>\n",
              "      <th>installment_commitment</th>\n",
              "      <th>residence_since</th>\n",
              "      <th>age</th>\n",
              "      <th>asnm</th>\n",
              "      <th>existing_credits</th>\n",
              "      <th>num_dependents</th>\n",
              "      <th>own_telephone</th>\n",
              "      <th>foreign_worker</th>\n",
              "      <th>accepted</th>\n",
              "      <th>gender</th>\n",
              "      <th>checking_status_0_to_200DM</th>\n",
              "      <th>checking_status_&lt;0DM</th>\n",
              "      <th>checking_status_&gt;200DM</th>\n",
              "      <th>checking_status_None</th>\n",
              "      <th>credit_history_All_credits_paid_duly</th>\n",
              "      <th>credit_history_Critical_acct_other_credits_existing</th>\n",
              "      <th>credit_history_Delay_in_past</th>\n",
              "      <th>credit_history_Existing_credits_paid_till_now</th>\n",
              "      <th>credit_history_No_credits_taken_or_all_paid</th>\n",
              "      <th>purpose_business</th>\n",
              "      <th>purpose_domestic_appliances</th>\n",
              "      <th>purpose_education</th>\n",
              "      <th>purpose_furniture/equipment</th>\n",
              "      <th>purpose_new_car</th>\n",
              "      <th>purpose_other</th>\n",
              "      <th>purpose_radio/television</th>\n",
              "      <th>purpose_repairs</th>\n",
              "      <th>purpose_retraining</th>\n",
              "      <th>purpose_used_car</th>\n",
              "      <th>savings_status_100_to_500DM</th>\n",
              "      <th>savings_status_500_to_1000DM</th>\n",
              "      <th>savings_status_&lt;100DM</th>\n",
              "      <th>savings_status_&gt;1000DM</th>\n",
              "      <th>savings_status_Unknown_or_no_savings_acct</th>\n",
              "      <th>employment_1_to_4yrs</th>\n",
              "      <th>employment_4_to_7yrs</th>\n",
              "      <th>employment_&lt;1yr</th>\n",
              "      <th>employment_&gt;7yrs</th>\n",
              "      <th>employment_unemployed</th>\n",
              "      <th>personal_status_female_divorced/separated/married</th>\n",
              "      <th>personal_status_male_divorced/separated</th>\n",
              "      <th>personal_status_male_married/widowed</th>\n",
              "      <th>personal_status_male_single</th>\n",
              "      <th>other_parties_None</th>\n",
              "      <th>other_parties_co-applicant</th>\n",
              "      <th>other_parties_guarantor</th>\n",
              "      <th>property_magnitude_building_society_savings_agreement/life_insurance</th>\n",
              "      <th>property_magnitude_car_or_other_nonsavings</th>\n",
              "      <th>property_magnitude_real_estate</th>\n",
              "      <th>property_magnitude_unknown/no_property</th>\n",
              "      <th>other_payment_plans_bank</th>\n",
              "      <th>other_payment_plans_none</th>\n",
              "      <th>other_payment_plans_stores</th>\n",
              "      <th>housing_for_free</th>\n",
              "      <th>housing_own</th>\n",
              "      <th>housing_rent</th>\n",
              "      <th>job_management_self-employed_highly_qualified/officer</th>\n",
              "      <th>job_skilled_employee/official</th>\n",
              "      <th>job_unemployed/unskilled_nonresident</th>\n",
              "      <th>job_unskilled_resident</th>\n",
              "    </tr>\n",
              "  </thead>\n",
              "  <tbody>\n",
              "    <tr>\n",
              "      <th>0</th>\n",
              "      <td>6</td>\n",
              "      <td>1169.0</td>\n",
              "      <td>4</td>\n",
              "      <td>4</td>\n",
              "      <td>35</td>\n",
              "      <td>193</td>\n",
              "      <td>2</td>\n",
              "      <td>1</td>\n",
              "      <td>1</td>\n",
              "      <td>1</td>\n",
              "      <td>0</td>\n",
              "      <td>0</td>\n",
              "      <td>0</td>\n",
              "      <td>1</td>\n",
              "      <td>0</td>\n",
              "      <td>0</td>\n",
              "      <td>0</td>\n",
              "      <td>1</td>\n",
              "      <td>0</td>\n",
              "      <td>0</td>\n",
              "      <td>0</td>\n",
              "      <td>0</td>\n",
              "      <td>0</td>\n",
              "      <td>0</td>\n",
              "      <td>0</td>\n",
              "      <td>0</td>\n",
              "      <td>0</td>\n",
              "      <td>1</td>\n",
              "      <td>0</td>\n",
              "      <td>0</td>\n",
              "      <td>0</td>\n",
              "      <td>0</td>\n",
              "      <td>0</td>\n",
              "      <td>0</td>\n",
              "      <td>0</td>\n",
              "      <td>1</td>\n",
              "      <td>0</td>\n",
              "      <td>0</td>\n",
              "      <td>0</td>\n",
              "      <td>1</td>\n",
              "      <td>0</td>\n",
              "      <td>0</td>\n",
              "      <td>0</td>\n",
              "      <td>0</td>\n",
              "      <td>1</td>\n",
              "      <td>1</td>\n",
              "      <td>0</td>\n",
              "      <td>0</td>\n",
              "      <td>0</td>\n",
              "      <td>0</td>\n",
              "      <td>1</td>\n",
              "      <td>0</td>\n",
              "      <td>0</td>\n",
              "      <td>1</td>\n",
              "      <td>0</td>\n",
              "      <td>0</td>\n",
              "      <td>1</td>\n",
              "      <td>0</td>\n",
              "      <td>0</td>\n",
              "      <td>1</td>\n",
              "      <td>0</td>\n",
              "      <td>0</td>\n",
              "    </tr>\n",
              "    <tr>\n",
              "      <th>1</th>\n",
              "      <td>48</td>\n",
              "      <td>5951.0</td>\n",
              "      <td>2</td>\n",
              "      <td>2</td>\n",
              "      <td>22</td>\n",
              "      <td>424</td>\n",
              "      <td>1</td>\n",
              "      <td>1</td>\n",
              "      <td>0</td>\n",
              "      <td>1</td>\n",
              "      <td>1</td>\n",
              "      <td>1</td>\n",
              "      <td>1</td>\n",
              "      <td>0</td>\n",
              "      <td>0</td>\n",
              "      <td>0</td>\n",
              "      <td>0</td>\n",
              "      <td>0</td>\n",
              "      <td>0</td>\n",
              "      <td>1</td>\n",
              "      <td>0</td>\n",
              "      <td>0</td>\n",
              "      <td>0</td>\n",
              "      <td>0</td>\n",
              "      <td>0</td>\n",
              "      <td>0</td>\n",
              "      <td>0</td>\n",
              "      <td>1</td>\n",
              "      <td>0</td>\n",
              "      <td>0</td>\n",
              "      <td>0</td>\n",
              "      <td>0</td>\n",
              "      <td>0</td>\n",
              "      <td>1</td>\n",
              "      <td>0</td>\n",
              "      <td>0</td>\n",
              "      <td>1</td>\n",
              "      <td>0</td>\n",
              "      <td>0</td>\n",
              "      <td>0</td>\n",
              "      <td>0</td>\n",
              "      <td>1</td>\n",
              "      <td>0</td>\n",
              "      <td>0</td>\n",
              "      <td>0</td>\n",
              "      <td>1</td>\n",
              "      <td>0</td>\n",
              "      <td>0</td>\n",
              "      <td>0</td>\n",
              "      <td>0</td>\n",
              "      <td>1</td>\n",
              "      <td>0</td>\n",
              "      <td>0</td>\n",
              "      <td>1</td>\n",
              "      <td>0</td>\n",
              "      <td>0</td>\n",
              "      <td>1</td>\n",
              "      <td>0</td>\n",
              "      <td>0</td>\n",
              "      <td>1</td>\n",
              "      <td>0</td>\n",
              "      <td>0</td>\n",
              "    </tr>\n",
              "    <tr>\n",
              "      <th>2</th>\n",
              "      <td>12</td>\n",
              "      <td>2096.0</td>\n",
              "      <td>2</td>\n",
              "      <td>3</td>\n",
              "      <td>49</td>\n",
              "      <td>73</td>\n",
              "      <td>1</td>\n",
              "      <td>2</td>\n",
              "      <td>0</td>\n",
              "      <td>1</td>\n",
              "      <td>0</td>\n",
              "      <td>0</td>\n",
              "      <td>0</td>\n",
              "      <td>0</td>\n",
              "      <td>0</td>\n",
              "      <td>1</td>\n",
              "      <td>0</td>\n",
              "      <td>1</td>\n",
              "      <td>0</td>\n",
              "      <td>0</td>\n",
              "      <td>0</td>\n",
              "      <td>0</td>\n",
              "      <td>0</td>\n",
              "      <td>1</td>\n",
              "      <td>0</td>\n",
              "      <td>0</td>\n",
              "      <td>0</td>\n",
              "      <td>0</td>\n",
              "      <td>0</td>\n",
              "      <td>0</td>\n",
              "      <td>0</td>\n",
              "      <td>0</td>\n",
              "      <td>0</td>\n",
              "      <td>1</td>\n",
              "      <td>0</td>\n",
              "      <td>0</td>\n",
              "      <td>0</td>\n",
              "      <td>1</td>\n",
              "      <td>0</td>\n",
              "      <td>0</td>\n",
              "      <td>0</td>\n",
              "      <td>0</td>\n",
              "      <td>0</td>\n",
              "      <td>0</td>\n",
              "      <td>1</td>\n",
              "      <td>1</td>\n",
              "      <td>0</td>\n",
              "      <td>0</td>\n",
              "      <td>0</td>\n",
              "      <td>0</td>\n",
              "      <td>1</td>\n",
              "      <td>0</td>\n",
              "      <td>0</td>\n",
              "      <td>1</td>\n",
              "      <td>0</td>\n",
              "      <td>0</td>\n",
              "      <td>1</td>\n",
              "      <td>0</td>\n",
              "      <td>0</td>\n",
              "      <td>0</td>\n",
              "      <td>0</td>\n",
              "      <td>1</td>\n",
              "    </tr>\n",
              "    <tr>\n",
              "      <th>3</th>\n",
              "      <td>42</td>\n",
              "      <td>7882.0</td>\n",
              "      <td>2</td>\n",
              "      <td>4</td>\n",
              "      <td>45</td>\n",
              "      <td>33</td>\n",
              "      <td>1</td>\n",
              "      <td>2</td>\n",
              "      <td>0</td>\n",
              "      <td>1</td>\n",
              "      <td>0</td>\n",
              "      <td>0</td>\n",
              "      <td>0</td>\n",
              "      <td>1</td>\n",
              "      <td>0</td>\n",
              "      <td>0</td>\n",
              "      <td>0</td>\n",
              "      <td>0</td>\n",
              "      <td>0</td>\n",
              "      <td>1</td>\n",
              "      <td>0</td>\n",
              "      <td>0</td>\n",
              "      <td>0</td>\n",
              "      <td>0</td>\n",
              "      <td>1</td>\n",
              "      <td>0</td>\n",
              "      <td>0</td>\n",
              "      <td>0</td>\n",
              "      <td>0</td>\n",
              "      <td>0</td>\n",
              "      <td>0</td>\n",
              "      <td>0</td>\n",
              "      <td>0</td>\n",
              "      <td>1</td>\n",
              "      <td>0</td>\n",
              "      <td>0</td>\n",
              "      <td>0</td>\n",
              "      <td>1</td>\n",
              "      <td>0</td>\n",
              "      <td>0</td>\n",
              "      <td>0</td>\n",
              "      <td>0</td>\n",
              "      <td>0</td>\n",
              "      <td>0</td>\n",
              "      <td>1</td>\n",
              "      <td>0</td>\n",
              "      <td>0</td>\n",
              "      <td>1</td>\n",
              "      <td>1</td>\n",
              "      <td>0</td>\n",
              "      <td>0</td>\n",
              "      <td>0</td>\n",
              "      <td>0</td>\n",
              "      <td>1</td>\n",
              "      <td>0</td>\n",
              "      <td>1</td>\n",
              "      <td>0</td>\n",
              "      <td>0</td>\n",
              "      <td>0</td>\n",
              "      <td>1</td>\n",
              "      <td>0</td>\n",
              "      <td>0</td>\n",
              "    </tr>\n",
              "    <tr>\n",
              "      <th>4</th>\n",
              "      <td>24</td>\n",
              "      <td>4870.0</td>\n",
              "      <td>3</td>\n",
              "      <td>4</td>\n",
              "      <td>53</td>\n",
              "      <td>145</td>\n",
              "      <td>2</td>\n",
              "      <td>2</td>\n",
              "      <td>0</td>\n",
              "      <td>1</td>\n",
              "      <td>1</td>\n",
              "      <td>0</td>\n",
              "      <td>0</td>\n",
              "      <td>1</td>\n",
              "      <td>0</td>\n",
              "      <td>0</td>\n",
              "      <td>0</td>\n",
              "      <td>0</td>\n",
              "      <td>1</td>\n",
              "      <td>0</td>\n",
              "      <td>0</td>\n",
              "      <td>0</td>\n",
              "      <td>0</td>\n",
              "      <td>0</td>\n",
              "      <td>0</td>\n",
              "      <td>1</td>\n",
              "      <td>0</td>\n",
              "      <td>0</td>\n",
              "      <td>0</td>\n",
              "      <td>0</td>\n",
              "      <td>0</td>\n",
              "      <td>0</td>\n",
              "      <td>0</td>\n",
              "      <td>1</td>\n",
              "      <td>0</td>\n",
              "      <td>0</td>\n",
              "      <td>1</td>\n",
              "      <td>0</td>\n",
              "      <td>0</td>\n",
              "      <td>0</td>\n",
              "      <td>0</td>\n",
              "      <td>0</td>\n",
              "      <td>0</td>\n",
              "      <td>0</td>\n",
              "      <td>1</td>\n",
              "      <td>1</td>\n",
              "      <td>0</td>\n",
              "      <td>0</td>\n",
              "      <td>0</td>\n",
              "      <td>0</td>\n",
              "      <td>0</td>\n",
              "      <td>1</td>\n",
              "      <td>0</td>\n",
              "      <td>1</td>\n",
              "      <td>0</td>\n",
              "      <td>1</td>\n",
              "      <td>0</td>\n",
              "      <td>0</td>\n",
              "      <td>0</td>\n",
              "      <td>1</td>\n",
              "      <td>0</td>\n",
              "      <td>0</td>\n",
              "    </tr>\n",
              "  </tbody>\n",
              "</table>\n",
              "</div>"
            ],
            "text/plain" : [
              "   duration  credit_amount  installment_commitment  residence_since  age  \\\n",
              "0         6         1169.0                       4                4   35   \n",
              "1        48         5951.0                       2                2   22   \n",
              "2        12         2096.0                       2                3   49   \n",
              "3        42         7882.0                       2                4   45   \n",
              "4        24         4870.0                       3                4   53   \n",
              "\n",
              "   asnm  existing_credits  num_dependents  own_telephone  foreign_worker  \\\n",
              "0   193                 2               1              1               1   \n",
              "1   424                 1               1              0               1   \n",
              "2    73                 1               2              0               1   \n",
              "3    33                 1               2              0               1   \n",
              "4   145                 2               2              0               1   \n",
              "\n",
              "   accepted  gender  checking_status_0_to_200DM  checking_status_<0DM  \\\n",
              "0         0       0                           0                     1   \n",
              "1         1       1                           1                     0   \n",
              "2         0       0                           0                     0   \n",
              "3         0       0                           0                     1   \n",
              "4         1       0                           0                     1   \n",
              "\n",
              "   checking_status_>200DM  checking_status_None  \\\n",
              "0                       0                     0   \n",
              "1                       0                     0   \n",
              "2                       0                     1   \n",
              "3                       0                     0   \n",
              "4                       0                     0   \n",
              "\n",
              "   credit_history_All_credits_paid_duly  \\\n",
              "0                                     0   \n",
              "1                                     0   \n",
              "2                                     0   \n",
              "3                                     0   \n",
              "4                                     0   \n",
              "\n",
              "   credit_history_Critical_acct_other_credits_existing  \\\n",
              "0                                                  1     \n",
              "1                                                  0     \n",
              "2                                                  1     \n",
              "3                                                  0     \n",
              "4                                                  0     \n",
              "\n",
              "   credit_history_Delay_in_past  \\\n",
              "0                             0   \n",
              "1                             0   \n",
              "2                             0   \n",
              "3                             0   \n",
              "4                             1   \n",
              "\n",
              "   credit_history_Existing_credits_paid_till_now  \\\n",
              "0                                              0   \n",
              "1                                              1   \n",
              "2                                              0   \n",
              "3                                              1   \n",
              "4                                              0   \n",
              "\n",
              "   credit_history_No_credits_taken_or_all_paid  purpose_business  \\\n",
              "0                                            0                 0   \n",
              "1                                            0                 0   \n",
              "2                                            0                 0   \n",
              "3                                            0                 0   \n",
              "4                                            0                 0   \n",
              "\n",
              "   purpose_domestic_appliances  purpose_education  \\\n",
              "0                            0                  0   \n",
              "1                            0                  0   \n",
              "2                            0                  1   \n",
              "3                            0                  0   \n",
              "4                            0                  0   \n",
              "\n",
              "   purpose_furniture/equipment  purpose_new_car  purpose_other  \\\n",
              "0                            0                0              0   \n",
              "1                            0                0              0   \n",
              "2                            0                0              0   \n",
              "3                            1                0              0   \n",
              "4                            0                1              0   \n",
              "\n",
              "   purpose_radio/television  purpose_repairs  purpose_retraining  \\\n",
              "0                         1                0                   0   \n",
              "1                         1                0                   0   \n",
              "2                         0                0                   0   \n",
              "3                         0                0                   0   \n",
              "4                         0                0                   0   \n",
              "\n",
              "   purpose_used_car  savings_status_100_to_500DM  \\\n",
              "0                 0                            0   \n",
              "1                 0                            0   \n",
              "2                 0                            0   \n",
              "3                 0                            0   \n",
              "4                 0                            0   \n",
              "\n",
              "   savings_status_500_to_1000DM  savings_status_<100DM  \\\n",
              "0                             0                      0   \n",
              "1                             0                      1   \n",
              "2                             0                      1   \n",
              "3                             0                      1   \n",
              "4                             0                      1   \n",
              "\n",
              "   savings_status_>1000DM  savings_status_Unknown_or_no_savings_acct  \\\n",
              "0                       0                                          1   \n",
              "1                       0                                          0   \n",
              "2                       0                                          0   \n",
              "3                       0                                          0   \n",
              "4                       0                                          0   \n",
              "\n",
              "   employment_1_to_4yrs  employment_4_to_7yrs  employment_<1yr  \\\n",
              "0                     0                     0                0   \n",
              "1                     1                     0                0   \n",
              "2                     0                     1                0   \n",
              "3                     0                     1                0   \n",
              "4                     1                     0                0   \n",
              "\n",
              "   employment_>7yrs  employment_unemployed  \\\n",
              "0                 1                      0   \n",
              "1                 0                      0   \n",
              "2                 0                      0   \n",
              "3                 0                      0   \n",
              "4                 0                      0   \n",
              "\n",
              "   personal_status_female_divorced/separated/married  \\\n",
              "0                                                  0   \n",
              "1                                                  1   \n",
              "2                                                  0   \n",
              "3                                                  0   \n",
              "4                                                  0   \n",
              "\n",
              "   personal_status_male_divorced/separated  \\\n",
              "0                                        0   \n",
              "1                                        0   \n",
              "2                                        0   \n",
              "3                                        0   \n",
              "4                                        0   \n",
              "\n",
              "   personal_status_male_married/widowed  personal_status_male_single  \\\n",
              "0                                     0                            1   \n",
              "1                                     0                            0   \n",
              "2                                     0                            1   \n",
              "3                                     0                            1   \n",
              "4                                     0                            1   \n",
              "\n",
              "   other_parties_None  other_parties_co-applicant  other_parties_guarantor  \\\n",
              "0                   1                           0                        0   \n",
              "1                   1                           0                        0   \n",
              "2                   1                           0                        0   \n",
              "3                   0                           0                        1   \n",
              "4                   1                           0                        0   \n",
              "\n",
              "   property_magnitude_building_society_savings_agreement/life_insurance  \\\n",
              "0                                                  0                      \n",
              "1                                                  0                      \n",
              "2                                                  0                      \n",
              "3                                                  1                      \n",
              "4                                                  0                      \n",
              "\n",
              "   property_magnitude_car_or_other_nonsavings  property_magnitude_real_estate  \\\n",
              "0                                           0                               1   \n",
              "1                                           0                               1   \n",
              "2                                           0                               1   \n",
              "3                                           0                               0   \n",
              "4                                           0                               0   \n",
              "\n",
              "   property_magnitude_unknown/no_property  other_payment_plans_bank  \\\n",
              "0                                       0                         0   \n",
              "1                                       0                         0   \n",
              "2                                       0                         0   \n",
              "3                                       0                         0   \n",
              "4                                       1                         0   \n",
              "\n",
              "   other_payment_plans_none  other_payment_plans_stores  housing_for_free  \\\n",
              "0                         1                           0                 0   \n",
              "1                         1                           0                 0   \n",
              "2                         1                           0                 0   \n",
              "3                         1                           0                 1   \n",
              "4                         1                           0                 1   \n",
              "\n",
              "   housing_own  housing_rent  \\\n",
              "0            1             0   \n",
              "1            1             0   \n",
              "2            1             0   \n",
              "3            0             0   \n",
              "4            0             0   \n",
              "\n",
              "   job_management_self-employed_highly_qualified/officer  \\\n",
              "0                                                  0       \n",
              "1                                                  0       \n",
              "2                                                  0       \n",
              "3                                                  0       \n",
              "4                                                  0       \n",
              "\n",
              "   job_skilled_employee/official  job_unemployed/unskilled_nonresident  \\\n",
              "0                              1                                     0   \n",
              "1                              1                                     0   \n",
              "2                              0                                     0   \n",
              "3                              1                                     0   \n",
              "4                              1                                     0   \n",
              "\n",
              "   job_unskilled_resident  \n",
              "0                       0  \n",
              "1                       0  \n",
              "2                       1  \n",
              "3                       0  \n",
              "4                       0  "
            ]
          },
          "metadata" : {
            "name" : "Out",
            "type" : ""
          },
          "output_type" : "execute_result"
        }
      ]
    },
    {
      "cell_type" : "markdown",
      "execution_count" : 39,
      "metadata" : {
        "language" : "text"
      },
      "language" : "text",
      "source" : [
        "## Train Test Split"
      ],
      "outputs" : [
      ]
    },
    {
      "cell_type" : "code",
      "execution_count" : 40,
      "metadata" : {
        "language" : "scala"
      },
      "language" : "scala",
      "source" : [
        "X = data.drop(['accepted'], axis = 1).astype(float)\n",
        "y = data['accepted'].astype(float)"
      ],
      "outputs" : [
      ]
    },
    {
      "cell_type" : "code",
      "execution_count" : 41,
      "metadata" : {
        "language" : "scala"
      },
      "language" : "scala",
      "source" : [
        "from sklearn.model_selection import train_test_split\n",
        "X_train, X_test, y_train, y_test = train_test_split(X, y, test_size = 0.4, random_state=1)"
      ],
      "outputs" : [
      ]
    },
    {
      "cell_type" : "markdown",
      "execution_count" : 42,
      "metadata" : {
        "language" : "text"
      },
      "language" : "text",
      "source" : [
        "## Feature Scaling"
      ],
      "outputs" : [
      ]
    },
    {
      "cell_type" : "code",
      "execution_count" : 43,
      "metadata" : {
        "language" : "scala"
      },
      "language" : "scala",
      "source" : [
        "from sklearn.preprocessing import StandardScaler\n",
        "sc = StandardScaler()\n",
        "\n",
        "X_train = sc.fit_transform(X_train)\n",
        "X_test = sc.transform(X_test)\n",
        "pd.DataFrame(X_train, columns=X.columns).head()"
      ],
      "outputs" : [
        {
          "execution_count" : 43,
          "data" : {
            "text/html" : [
              "<div>\n",
              "<style scoped>\n",
              "    .dataframe tbody tr th:only-of-type {\n",
              "        vertical-align: middle;\n",
              "    }\n",
              "\n",
              "    .dataframe tbody tr th {\n",
              "        vertical-align: top;\n",
              "    }\n",
              "\n",
              "    .dataframe thead th {\n",
              "        text-align: right;\n",
              "    }\n",
              "</style>\n",
              "<table border=\"1\" class=\"dataframe\">\n",
              "  <thead>\n",
              "    <tr style=\"text-align: right;\">\n",
              "      <th></th>\n",
              "      <th>duration</th>\n",
              "      <th>credit_amount</th>\n",
              "      <th>installment_commitment</th>\n",
              "      <th>residence_since</th>\n",
              "      <th>age</th>\n",
              "      <th>asnm</th>\n",
              "      <th>existing_credits</th>\n",
              "      <th>num_dependents</th>\n",
              "      <th>own_telephone</th>\n",
              "      <th>foreign_worker</th>\n",
              "      <th>gender</th>\n",
              "      <th>checking_status_0_to_200DM</th>\n",
              "      <th>checking_status_&lt;0DM</th>\n",
              "      <th>checking_status_&gt;200DM</th>\n",
              "      <th>checking_status_None</th>\n",
              "      <th>credit_history_All_credits_paid_duly</th>\n",
              "      <th>credit_history_Critical_acct_other_credits_existing</th>\n",
              "      <th>credit_history_Delay_in_past</th>\n",
              "      <th>credit_history_Existing_credits_paid_till_now</th>\n",
              "      <th>credit_history_No_credits_taken_or_all_paid</th>\n",
              "      <th>purpose_business</th>\n",
              "      <th>purpose_domestic_appliances</th>\n",
              "      <th>purpose_education</th>\n",
              "      <th>purpose_furniture/equipment</th>\n",
              "      <th>purpose_new_car</th>\n",
              "      <th>purpose_other</th>\n",
              "      <th>purpose_radio/television</th>\n",
              "      <th>purpose_repairs</th>\n",
              "      <th>purpose_retraining</th>\n",
              "      <th>purpose_used_car</th>\n",
              "      <th>savings_status_100_to_500DM</th>\n",
              "      <th>savings_status_500_to_1000DM</th>\n",
              "      <th>savings_status_&lt;100DM</th>\n",
              "      <th>savings_status_&gt;1000DM</th>\n",
              "      <th>savings_status_Unknown_or_no_savings_acct</th>\n",
              "      <th>employment_1_to_4yrs</th>\n",
              "      <th>employment_4_to_7yrs</th>\n",
              "      <th>employment_&lt;1yr</th>\n",
              "      <th>employment_&gt;7yrs</th>\n",
              "      <th>employment_unemployed</th>\n",
              "      <th>personal_status_female_divorced/separated/married</th>\n",
              "      <th>personal_status_male_divorced/separated</th>\n",
              "      <th>personal_status_male_married/widowed</th>\n",
              "      <th>personal_status_male_single</th>\n",
              "      <th>other_parties_None</th>\n",
              "      <th>other_parties_co-applicant</th>\n",
              "      <th>other_parties_guarantor</th>\n",
              "      <th>property_magnitude_building_society_savings_agreement/life_insurance</th>\n",
              "      <th>property_magnitude_car_or_other_nonsavings</th>\n",
              "      <th>property_magnitude_real_estate</th>\n",
              "      <th>property_magnitude_unknown/no_property</th>\n",
              "      <th>other_payment_plans_bank</th>\n",
              "      <th>other_payment_plans_none</th>\n",
              "      <th>other_payment_plans_stores</th>\n",
              "      <th>housing_for_free</th>\n",
              "      <th>housing_own</th>\n",
              "      <th>housing_rent</th>\n",
              "      <th>job_management_self-employed_highly_qualified/officer</th>\n",
              "      <th>job_skilled_employee/official</th>\n",
              "      <th>job_unemployed/unskilled_nonresident</th>\n",
              "      <th>job_unskilled_resident</th>\n",
              "    </tr>\n",
              "  </thead>\n",
              "  <tbody>\n",
              "    <tr>\n",
              "      <th>0</th>\n",
              "      <td>-0.902474</td>\n",
              "      <td>-0.390403</td>\n",
              "      <td>-1.782434</td>\n",
              "      <td>0.116839</td>\n",
              "      <td>-1.217602</td>\n",
              "      <td>1.465214</td>\n",
              "      <td>1.036024</td>\n",
              "      <td>-0.439576</td>\n",
              "      <td>-0.800685</td>\n",
              "      <td>0.19061</td>\n",
              "      <td>1.519668</td>\n",
              "      <td>-0.616591</td>\n",
              "      <td>-0.588275</td>\n",
              "      <td>-0.274598</td>\n",
              "      <td>1.231587</td>\n",
              "      <td>-0.237566</td>\n",
              "      <td>1.595111</td>\n",
              "      <td>-0.330544</td>\n",
              "      <td>-1.042645</td>\n",
              "      <td>-0.217262</td>\n",
              "      <td>-0.305067</td>\n",
              "      <td>-0.100588</td>\n",
              "      <td>-0.233618</td>\n",
              "      <td>2.194432</td>\n",
              "      <td>-0.565140</td>\n",
              "      <td>-0.091747</td>\n",
              "      <td>-0.652833</td>\n",
              "      <td>-0.136775</td>\n",
              "      <td>-0.091747</td>\n",
              "      <td>-0.342837</td>\n",
              "      <td>-0.339789</td>\n",
              "      <td>-0.263899</td>\n",
              "      <td>0.85511</td>\n",
              "      <td>-0.237566</td>\n",
              "      <td>-0.500522</td>\n",
              "      <td>-0.710651</td>\n",
              "      <td>-0.487446</td>\n",
              "      <td>2.378141</td>\n",
              "      <td>-0.598562</td>\n",
              "      <td>-0.249112</td>\n",
              "      <td>1.519668</td>\n",
              "      <td>-0.241462</td>\n",
              "      <td>-0.271066</td>\n",
              "      <td>-1.161473</td>\n",
              "      <td>0.311560</td>\n",
              "      <td>-0.199826</td>\n",
              "      <td>-0.229617</td>\n",
              "      <td>-0.541975</td>\n",
              "      <td>-0.732050</td>\n",
              "      <td>1.692488</td>\n",
              "      <td>-0.444972</td>\n",
              "      <td>-0.417744</td>\n",
              "      <td>0.503128</td>\n",
              "      <td>-0.237566</td>\n",
              "      <td>-0.360817</td>\n",
              "      <td>-1.556553</td>\n",
              "      <td>2.156605</td>\n",
              "      <td>-0.40944</td>\n",
              "      <td>0.740138</td>\n",
              "      <td>-0.123508</td>\n",
              "      <td>-0.492685</td>\n",
              "    </tr>\n",
              "    <tr>\n",
              "      <th>1</th>\n",
              "      <td>1.261519</td>\n",
              "      <td>-0.337004</td>\n",
              "      <td>0.911455</td>\n",
              "      <td>1.037715</td>\n",
              "      <td>0.301864</td>\n",
              "      <td>-1.053969</td>\n",
              "      <td>-0.702291</td>\n",
              "      <td>-0.439576</td>\n",
              "      <td>-0.800685</td>\n",
              "      <td>0.19061</td>\n",
              "      <td>-0.658038</td>\n",
              "      <td>-0.616591</td>\n",
              "      <td>-0.588275</td>\n",
              "      <td>-0.274598</td>\n",
              "      <td>1.231587</td>\n",
              "      <td>-0.237566</td>\n",
              "      <td>-0.626916</td>\n",
              "      <td>-0.330544</td>\n",
              "      <td>0.959099</td>\n",
              "      <td>-0.217262</td>\n",
              "      <td>-0.305067</td>\n",
              "      <td>-0.100588</td>\n",
              "      <td>-0.233618</td>\n",
              "      <td>-0.455699</td>\n",
              "      <td>-0.565140</td>\n",
              "      <td>-0.091747</td>\n",
              "      <td>1.531786</td>\n",
              "      <td>-0.136775</td>\n",
              "      <td>-0.091747</td>\n",
              "      <td>-0.342837</td>\n",
              "      <td>-0.339789</td>\n",
              "      <td>3.789324</td>\n",
              "      <td>-1.16944</td>\n",
              "      <td>-0.237566</td>\n",
              "      <td>-0.500522</td>\n",
              "      <td>-0.710651</td>\n",
              "      <td>-0.487446</td>\n",
              "      <td>-0.420496</td>\n",
              "      <td>1.670670</td>\n",
              "      <td>-0.249112</td>\n",
              "      <td>-0.658038</td>\n",
              "      <td>-0.241462</td>\n",
              "      <td>-0.271066</td>\n",
              "      <td>0.860976</td>\n",
              "      <td>0.311560</td>\n",
              "      <td>-0.199826</td>\n",
              "      <td>-0.229617</td>\n",
              "      <td>-0.541975</td>\n",
              "      <td>1.366027</td>\n",
              "      <td>-0.590846</td>\n",
              "      <td>-0.444972</td>\n",
              "      <td>-0.417744</td>\n",
              "      <td>0.503128</td>\n",
              "      <td>-0.237566</td>\n",
              "      <td>-0.360817</td>\n",
              "      <td>0.642445</td>\n",
              "      <td>-0.463692</td>\n",
              "      <td>-0.40944</td>\n",
              "      <td>0.740138</td>\n",
              "      <td>-0.123508</td>\n",
              "      <td>-0.492685</td>\n",
              "    </tr>\n",
              "    <tr>\n",
              "      <th>2</th>\n",
              "      <td>0.262753</td>\n",
              "      <td>-0.599813</td>\n",
              "      <td>0.911455</td>\n",
              "      <td>1.037715</td>\n",
              "      <td>-1.122635</td>\n",
              "      <td>1.200414</td>\n",
              "      <td>-0.702291</td>\n",
              "      <td>-0.439576</td>\n",
              "      <td>-0.800685</td>\n",
              "      <td>0.19061</td>\n",
              "      <td>-0.658038</td>\n",
              "      <td>-0.616591</td>\n",
              "      <td>1.699885</td>\n",
              "      <td>-0.274598</td>\n",
              "      <td>-0.811960</td>\n",
              "      <td>4.209365</td>\n",
              "      <td>-0.626916</td>\n",
              "      <td>-0.330544</td>\n",
              "      <td>-1.042645</td>\n",
              "      <td>-0.217262</td>\n",
              "      <td>-0.305067</td>\n",
              "      <td>-0.100588</td>\n",
              "      <td>-0.233618</td>\n",
              "      <td>-0.455699</td>\n",
              "      <td>-0.565140</td>\n",
              "      <td>-0.091747</td>\n",
              "      <td>1.531786</td>\n",
              "      <td>-0.136775</td>\n",
              "      <td>-0.091747</td>\n",
              "      <td>-0.342837</td>\n",
              "      <td>-0.339789</td>\n",
              "      <td>-0.263899</td>\n",
              "      <td>0.85511</td>\n",
              "      <td>-0.237566</td>\n",
              "      <td>-0.500522</td>\n",
              "      <td>-0.710651</td>\n",
              "      <td>2.051511</td>\n",
              "      <td>-0.420496</td>\n",
              "      <td>-0.598562</td>\n",
              "      <td>-0.249112</td>\n",
              "      <td>-0.658038</td>\n",
              "      <td>-0.241462</td>\n",
              "      <td>-0.271066</td>\n",
              "      <td>0.860976</td>\n",
              "      <td>-3.209655</td>\n",
              "      <td>-0.199826</td>\n",
              "      <td>4.355074</td>\n",
              "      <td>-0.541975</td>\n",
              "      <td>1.366027</td>\n",
              "      <td>-0.590846</td>\n",
              "      <td>-0.444972</td>\n",
              "      <td>2.393812</td>\n",
              "      <td>-1.987565</td>\n",
              "      <td>-0.237566</td>\n",
              "      <td>-0.360817</td>\n",
              "      <td>-1.556553</td>\n",
              "      <td>2.156605</td>\n",
              "      <td>-0.40944</td>\n",
              "      <td>-1.351100</td>\n",
              "      <td>-0.123508</td>\n",
              "      <td>2.029694</td>\n",
              "    </tr>\n",
              "    <tr>\n",
              "      <th>3</th>\n",
              "      <td>0.262753</td>\n",
              "      <td>-0.453575</td>\n",
              "      <td>0.911455</td>\n",
              "      <td>1.037715</td>\n",
              "      <td>0.586764</td>\n",
              "      <td>-1.118380</td>\n",
              "      <td>1.036024</td>\n",
              "      <td>-0.439576</td>\n",
              "      <td>1.248931</td>\n",
              "      <td>0.19061</td>\n",
              "      <td>1.519668</td>\n",
              "      <td>1.621821</td>\n",
              "      <td>-0.588275</td>\n",
              "      <td>-0.274598</td>\n",
              "      <td>-0.811960</td>\n",
              "      <td>-0.237566</td>\n",
              "      <td>-0.626916</td>\n",
              "      <td>3.025317</td>\n",
              "      <td>-1.042645</td>\n",
              "      <td>-0.217262</td>\n",
              "      <td>-0.305067</td>\n",
              "      <td>-0.100588</td>\n",
              "      <td>-0.233618</td>\n",
              "      <td>-0.455699</td>\n",
              "      <td>1.769473</td>\n",
              "      <td>-0.091747</td>\n",
              "      <td>-0.652833</td>\n",
              "      <td>-0.136775</td>\n",
              "      <td>-0.091747</td>\n",
              "      <td>-0.342837</td>\n",
              "      <td>-0.339789</td>\n",
              "      <td>-0.263899</td>\n",
              "      <td>-1.16944</td>\n",
              "      <td>-0.237566</td>\n",
              "      <td>1.997916</td>\n",
              "      <td>1.407160</td>\n",
              "      <td>-0.487446</td>\n",
              "      <td>-0.420496</td>\n",
              "      <td>-0.598562</td>\n",
              "      <td>-0.249112</td>\n",
              "      <td>1.519668</td>\n",
              "      <td>-0.241462</td>\n",
              "      <td>-0.271066</td>\n",
              "      <td>-1.161473</td>\n",
              "      <td>0.311560</td>\n",
              "      <td>-0.199826</td>\n",
              "      <td>-0.229617</td>\n",
              "      <td>-0.541975</td>\n",
              "      <td>1.366027</td>\n",
              "      <td>-0.590846</td>\n",
              "      <td>-0.444972</td>\n",
              "      <td>-0.417744</td>\n",
              "      <td>0.503128</td>\n",
              "      <td>-0.237566</td>\n",
              "      <td>-0.360817</td>\n",
              "      <td>-1.556553</td>\n",
              "      <td>2.156605</td>\n",
              "      <td>-0.40944</td>\n",
              "      <td>0.740138</td>\n",
              "      <td>-0.123508</td>\n",
              "      <td>-0.492685</td>\n",
              "    </tr>\n",
              "    <tr>\n",
              "      <th>4</th>\n",
              "      <td>-0.486322</td>\n",
              "      <td>-0.027426</td>\n",
              "      <td>-0.884471</td>\n",
              "      <td>0.116839</td>\n",
              "      <td>-1.502502</td>\n",
              "      <td>2.345497</td>\n",
              "      <td>-0.702291</td>\n",
              "      <td>-0.439576</td>\n",
              "      <td>-0.800685</td>\n",
              "      <td>0.19061</td>\n",
              "      <td>1.519668</td>\n",
              "      <td>-0.616591</td>\n",
              "      <td>-0.588275</td>\n",
              "      <td>-0.274598</td>\n",
              "      <td>1.231587</td>\n",
              "      <td>-0.237566</td>\n",
              "      <td>-0.626916</td>\n",
              "      <td>-0.330544</td>\n",
              "      <td>0.959099</td>\n",
              "      <td>-0.217262</td>\n",
              "      <td>-0.305067</td>\n",
              "      <td>-0.100588</td>\n",
              "      <td>-0.233618</td>\n",
              "      <td>-0.455699</td>\n",
              "      <td>1.769473</td>\n",
              "      <td>-0.091747</td>\n",
              "      <td>-0.652833</td>\n",
              "      <td>-0.136775</td>\n",
              "      <td>-0.091747</td>\n",
              "      <td>-0.342837</td>\n",
              "      <td>-0.339789</td>\n",
              "      <td>-0.263899</td>\n",
              "      <td>-1.16944</td>\n",
              "      <td>4.209365</td>\n",
              "      <td>-0.500522</td>\n",
              "      <td>-0.710651</td>\n",
              "      <td>2.051511</td>\n",
              "      <td>-0.420496</td>\n",
              "      <td>-0.598562</td>\n",
              "      <td>-0.249112</td>\n",
              "      <td>1.519668</td>\n",
              "      <td>-0.241462</td>\n",
              "      <td>-0.271066</td>\n",
              "      <td>-1.161473</td>\n",
              "      <td>0.311560</td>\n",
              "      <td>-0.199826</td>\n",
              "      <td>-0.229617</td>\n",
              "      <td>-0.541975</td>\n",
              "      <td>1.366027</td>\n",
              "      <td>-0.590846</td>\n",
              "      <td>-0.444972</td>\n",
              "      <td>-0.417744</td>\n",
              "      <td>0.503128</td>\n",
              "      <td>-0.237566</td>\n",
              "      <td>-0.360817</td>\n",
              "      <td>-1.556553</td>\n",
              "      <td>2.156605</td>\n",
              "      <td>-0.40944</td>\n",
              "      <td>0.740138</td>\n",
              "      <td>-0.123508</td>\n",
              "      <td>-0.492685</td>\n",
              "    </tr>\n",
              "  </tbody>\n",
              "</table>\n",
              "</div>"
            ],
            "text/plain" : [
              "   duration  credit_amount  installment_commitment  residence_since       age  \\\n",
              "0 -0.902474      -0.390403               -1.782434         0.116839 -1.217602   \n",
              "1  1.261519      -0.337004                0.911455         1.037715  0.301864   \n",
              "2  0.262753      -0.599813                0.911455         1.037715 -1.122635   \n",
              "3  0.262753      -0.453575                0.911455         1.037715  0.586764   \n",
              "4 -0.486322      -0.027426               -0.884471         0.116839 -1.502502   \n",
              "\n",
              "       asnm  existing_credits  num_dependents  own_telephone  foreign_worker  \\\n",
              "0  1.465214          1.036024       -0.439576      -0.800685         0.19061   \n",
              "1 -1.053969         -0.702291       -0.439576      -0.800685         0.19061   \n",
              "2  1.200414         -0.702291       -0.439576      -0.800685         0.19061   \n",
              "3 -1.118380          1.036024       -0.439576       1.248931         0.19061   \n",
              "4  2.345497         -0.702291       -0.439576      -0.800685         0.19061   \n",
              "\n",
              "     gender  checking_status_0_to_200DM  checking_status_<0DM  \\\n",
              "0  1.519668                   -0.616591             -0.588275   \n",
              "1 -0.658038                   -0.616591             -0.588275   \n",
              "2 -0.658038                   -0.616591              1.699885   \n",
              "3  1.519668                    1.621821             -0.588275   \n",
              "4  1.519668                   -0.616591             -0.588275   \n",
              "\n",
              "   checking_status_>200DM  checking_status_None  \\\n",
              "0               -0.274598              1.231587   \n",
              "1               -0.274598              1.231587   \n",
              "2               -0.274598             -0.811960   \n",
              "3               -0.274598             -0.811960   \n",
              "4               -0.274598              1.231587   \n",
              "\n",
              "   credit_history_All_credits_paid_duly  \\\n",
              "0                             -0.237566   \n",
              "1                             -0.237566   \n",
              "2                              4.209365   \n",
              "3                             -0.237566   \n",
              "4                             -0.237566   \n",
              "\n",
              "   credit_history_Critical_acct_other_credits_existing  \\\n",
              "0                                           1.595111     \n",
              "1                                          -0.626916     \n",
              "2                                          -0.626916     \n",
              "3                                          -0.626916     \n",
              "4                                          -0.626916     \n",
              "\n",
              "   credit_history_Delay_in_past  \\\n",
              "0                     -0.330544   \n",
              "1                     -0.330544   \n",
              "2                     -0.330544   \n",
              "3                      3.025317   \n",
              "4                     -0.330544   \n",
              "\n",
              "   credit_history_Existing_credits_paid_till_now  \\\n",
              "0                                      -1.042645   \n",
              "1                                       0.959099   \n",
              "2                                      -1.042645   \n",
              "3                                      -1.042645   \n",
              "4                                       0.959099   \n",
              "\n",
              "   credit_history_No_credits_taken_or_all_paid  purpose_business  \\\n",
              "0                                    -0.217262         -0.305067   \n",
              "1                                    -0.217262         -0.305067   \n",
              "2                                    -0.217262         -0.305067   \n",
              "3                                    -0.217262         -0.305067   \n",
              "4                                    -0.217262         -0.305067   \n",
              "\n",
              "   purpose_domestic_appliances  purpose_education  \\\n",
              "0                    -0.100588          -0.233618   \n",
              "1                    -0.100588          -0.233618   \n",
              "2                    -0.100588          -0.233618   \n",
              "3                    -0.100588          -0.233618   \n",
              "4                    -0.100588          -0.233618   \n",
              "\n",
              "   purpose_furniture/equipment  purpose_new_car  purpose_other  \\\n",
              "0                     2.194432        -0.565140      -0.091747   \n",
              "1                    -0.455699        -0.565140      -0.091747   \n",
              "2                    -0.455699        -0.565140      -0.091747   \n",
              "3                    -0.455699         1.769473      -0.091747   \n",
              "4                    -0.455699         1.769473      -0.091747   \n",
              "\n",
              "   purpose_radio/television  purpose_repairs  purpose_retraining  \\\n",
              "0                 -0.652833        -0.136775           -0.091747   \n",
              "1                  1.531786        -0.136775           -0.091747   \n",
              "2                  1.531786        -0.136775           -0.091747   \n",
              "3                 -0.652833        -0.136775           -0.091747   \n",
              "4                 -0.652833        -0.136775           -0.091747   \n",
              "\n",
              "   purpose_used_car  savings_status_100_to_500DM  \\\n",
              "0         -0.342837                    -0.339789   \n",
              "1         -0.342837                    -0.339789   \n",
              "2         -0.342837                    -0.339789   \n",
              "3         -0.342837                    -0.339789   \n",
              "4         -0.342837                    -0.339789   \n",
              "\n",
              "   savings_status_500_to_1000DM  savings_status_<100DM  \\\n",
              "0                     -0.263899                0.85511   \n",
              "1                      3.789324               -1.16944   \n",
              "2                     -0.263899                0.85511   \n",
              "3                     -0.263899               -1.16944   \n",
              "4                     -0.263899               -1.16944   \n",
              "\n",
              "   savings_status_>1000DM  savings_status_Unknown_or_no_savings_acct  \\\n",
              "0               -0.237566                                  -0.500522   \n",
              "1               -0.237566                                  -0.500522   \n",
              "2               -0.237566                                  -0.500522   \n",
              "3               -0.237566                                   1.997916   \n",
              "4                4.209365                                  -0.500522   \n",
              "\n",
              "   employment_1_to_4yrs  employment_4_to_7yrs  employment_<1yr  \\\n",
              "0             -0.710651             -0.487446         2.378141   \n",
              "1             -0.710651             -0.487446        -0.420496   \n",
              "2             -0.710651              2.051511        -0.420496   \n",
              "3              1.407160             -0.487446        -0.420496   \n",
              "4             -0.710651              2.051511        -0.420496   \n",
              "\n",
              "   employment_>7yrs  employment_unemployed  \\\n",
              "0         -0.598562              -0.249112   \n",
              "1          1.670670              -0.249112   \n",
              "2         -0.598562              -0.249112   \n",
              "3         -0.598562              -0.249112   \n",
              "4         -0.598562              -0.249112   \n",
              "\n",
              "   personal_status_female_divorced/separated/married  \\\n",
              "0                                           1.519668   \n",
              "1                                          -0.658038   \n",
              "2                                          -0.658038   \n",
              "3                                           1.519668   \n",
              "4                                           1.519668   \n",
              "\n",
              "   personal_status_male_divorced/separated  \\\n",
              "0                                -0.241462   \n",
              "1                                -0.241462   \n",
              "2                                -0.241462   \n",
              "3                                -0.241462   \n",
              "4                                -0.241462   \n",
              "\n",
              "   personal_status_male_married/widowed  personal_status_male_single  \\\n",
              "0                             -0.271066                    -1.161473   \n",
              "1                             -0.271066                     0.860976   \n",
              "2                             -0.271066                     0.860976   \n",
              "3                             -0.271066                    -1.161473   \n",
              "4                             -0.271066                    -1.161473   \n",
              "\n",
              "   other_parties_None  other_parties_co-applicant  other_parties_guarantor  \\\n",
              "0            0.311560                   -0.199826                -0.229617   \n",
              "1            0.311560                   -0.199826                -0.229617   \n",
              "2           -3.209655                   -0.199826                 4.355074   \n",
              "3            0.311560                   -0.199826                -0.229617   \n",
              "4            0.311560                   -0.199826                -0.229617   \n",
              "\n",
              "   property_magnitude_building_society_savings_agreement/life_insurance  \\\n",
              "0                                          -0.541975                      \n",
              "1                                          -0.541975                      \n",
              "2                                          -0.541975                      \n",
              "3                                          -0.541975                      \n",
              "4                                          -0.541975                      \n",
              "\n",
              "   property_magnitude_car_or_other_nonsavings  property_magnitude_real_estate  \\\n",
              "0                                   -0.732050                        1.692488   \n",
              "1                                    1.366027                       -0.590846   \n",
              "2                                    1.366027                       -0.590846   \n",
              "3                                    1.366027                       -0.590846   \n",
              "4                                    1.366027                       -0.590846   \n",
              "\n",
              "   property_magnitude_unknown/no_property  other_payment_plans_bank  \\\n",
              "0                               -0.444972                 -0.417744   \n",
              "1                               -0.444972                 -0.417744   \n",
              "2                               -0.444972                  2.393812   \n",
              "3                               -0.444972                 -0.417744   \n",
              "4                               -0.444972                 -0.417744   \n",
              "\n",
              "   other_payment_plans_none  other_payment_plans_stores  housing_for_free  \\\n",
              "0                  0.503128                   -0.237566         -0.360817   \n",
              "1                  0.503128                   -0.237566         -0.360817   \n",
              "2                 -1.987565                   -0.237566         -0.360817   \n",
              "3                  0.503128                   -0.237566         -0.360817   \n",
              "4                  0.503128                   -0.237566         -0.360817   \n",
              "\n",
              "   housing_own  housing_rent  \\\n",
              "0    -1.556553      2.156605   \n",
              "1     0.642445     -0.463692   \n",
              "2    -1.556553      2.156605   \n",
              "3    -1.556553      2.156605   \n",
              "4    -1.556553      2.156605   \n",
              "\n",
              "   job_management_self-employed_highly_qualified/officer  \\\n",
              "0                                           -0.40944       \n",
              "1                                           -0.40944       \n",
              "2                                           -0.40944       \n",
              "3                                           -0.40944       \n",
              "4                                           -0.40944       \n",
              "\n",
              "   job_skilled_employee/official  job_unemployed/unskilled_nonresident  \\\n",
              "0                       0.740138                             -0.123508   \n",
              "1                       0.740138                             -0.123508   \n",
              "2                      -1.351100                             -0.123508   \n",
              "3                       0.740138                             -0.123508   \n",
              "4                       0.740138                             -0.123508   \n",
              "\n",
              "   job_unskilled_resident  \n",
              "0               -0.492685  \n",
              "1               -0.492685  \n",
              "2                2.029694  \n",
              "3               -0.492685  \n",
              "4               -0.492685  "
            ]
          },
          "metadata" : {
            "name" : "Out",
            "type" : ""
          },
          "output_type" : "execute_result"
        }
      ]
    },
    {
      "cell_type" : "markdown",
      "execution_count" : 44,
      "metadata" : {
        "language" : "text"
      },
      "language" : "text",
      "source" : [
        "# V. Modelling\n",
        "***"
      ],
      "outputs" : [
      ]
    },
    {
      "cell_type" : "markdown",
      "execution_count" : 45,
      "metadata" : {
        "language" : "text"
      },
      "language" : "text",
      "source" : [
        "We will create a model to predict the acceptance of an application based on all the variables provided.\n",
        "\n",
        "First, let's visualize the class histogram."
      ],
      "outputs" : [
      ]
    },
    {
      "cell_type" : "code",
      "execution_count" : 46,
      "metadata" : {
        "language" : "scala"
      },
      "language" : "scala",
      "source" : [
        "count_acceptance = pd.value_counts(df['accepted'], sort = True).sort_index()\n",
        "count_acceptance.plot(kind = 'bar', figsize=(5,5))\n",
        "plt.title(\"Loan Acceptance Class Histogram\")\n",
        "plt.xticks([0, 1], ['Rejected', 'Accepted'])\n",
        "plt.xticks(rotation=0)\n",
        "plt.ylabel(\"Frequency\")"
      ],
      "outputs" : [
        {
          "execution_count" : 46,
          "data" : {
            "text/plain" : [
              "Text(0, 0.5, 'Frequency')"
            ]
          },
          "metadata" : {
            "name" : "Out",
            "type" : ""
          },
          "output_type" : "execute_result"
        },
        {
          "data" : {
            "image/png" : "[encoded data removed]"
          },
          "output_type" : "display_data"
        }
      ]
    },
    {
      "cell_type" : "markdown",
      "execution_count" : 47,
      "metadata" : {
        "language" : "text"
      },
      "language" : "text",
      "source" : [
        "There is a little imbalance, as expected, between the two classes. \n",
        "\n",
        "## Choosing the Best Estimator\n",
        "Since this is a classification problem, we will choose the best model among\n",
        "1. Logistic Regression\n",
        "2. Random Forest Classifier\n",
        "3. KNN Classifier\n",
        "3. XGBoost Classifier"
      ],
      "outputs" : [
      ]
    },
    {
      "cell_type" : "markdown",
      "execution_count" : 48,
      "metadata" : {
        "language" : "text"
      },
      "language" : "text",
      "source" : [
        "### Logistic Regression"
      ],
      "outputs" : [
      ]
    },
    {
      "cell_type" : "code",
      "execution_count" : 49,
      "metadata" : {
        "language" : "scala"
      },
      "language" : "scala",
      "source" : [
        "from sklearn.linear_model import LogisticRegression\n",
        "from sklearn.metrics import mean_absolute_error, accuracy_score\n",
        "\n",
        "lr = LogisticRegression(solver='liblinear')\n",
        "lr.fit(X_train,y_train)"
      ],
      "outputs" : [
        {
          "execution_count" : 49,
          "data" : {
            "text/plain" : [
              "LogisticRegression(C=1.0, class_weight=None, dual=False, fit_intercept=True,\n",
              "          intercept_scaling=1, max_iter=100, multi_class='warn',\n",
              "          n_jobs=None, penalty='l2', random_state=None, solver='liblinear',\n",
              "          tol=0.0001, verbose=0, warm_start=False)"
            ]
          },
          "metadata" : {
            "name" : "Out",
            "type" : ""
          },
          "output_type" : "execute_result"
        }
      ]
    },
    {
      "cell_type" : "code",
      "execution_count" : 50,
      "metadata" : {
        "language" : "scala"
      },
      "language" : "scala",
      "source" : [
        "from sklearn.metrics import roc_curve, auc\n",
        "y_score = lr.decision_function(X_test)\n",
        "\n",
        "y_pred = lr.predict(X_test)\n",
        "print (\"The accuracy score is:\", round(accuracy_score(y_pred, y_test),4))\n",
        "FPR, TPR, _ = roc_curve(y_test, y_score)\n",
        "ROC_AUC = auc(FPR, TPR)\n",
        "print (\"The ROC_AUC score is:\", round(ROC_AUC,4))"
      ],
      "outputs" : [
        {
          "name" : "stdout",
          "text" : [
            "The accuracy score is: 0.76\n",
            "The ROC_AUC score is: 0.7698\n"
          ],
          "output_type" : "stream"
        }
      ]
    },
    {
      "cell_type" : "code",
      "execution_count" : 51,
      "metadata" : {
        "language" : "scala"
      },
      "language" : "scala",
      "source" : [
        "plt.figure(figsize =[5, 5])\n",
        "plt.plot(FPR, TPR, label= 'ROC curve(area = %0.2f)'%ROC_AUC, linewidth= 2)\n",
        "plt.plot([0,1],[0,1], 'k--', linewidth = 2)\n",
        "plt.xlim([0.0,1.0])\n",
        "plt.ylim([0.0,1.0])\n",
        "plt.xlabel('False Positive Rate')\n",
        "plt.ylabel('True Positive Rate')\n",
        "plt.show()"
      ],
      "outputs" : [
        {
          "data" : {
            "image/png" : "[encoded data removed]"
          },
          "output_type" : "display_data"
        }
      ]
    },
    {
      "cell_type" : "markdown",
      "execution_count" : 52,
      "metadata" : {
        "language" : "text"
      },
      "language" : "text",
      "source" : [
        "### Random Forest Classifier"
      ],
      "outputs" : [
      ]
    },
    {
      "cell_type" : "code",
      "execution_count" : 53,
      "metadata" : {
        "language" : "scala"
      },
      "language" : "scala",
      "source" : [
        "from sklearn.ensemble import RandomForestClassifier\n",
        "\n",
        "rf = RandomForestClassifier()\n",
        "rf.fit(X_train, y_train)"
      ],
      "outputs" : [
        {
          "data" : {
            "text/plain" : [
              "/Users/raei/anaconda3/lib/python3.7/site-packages/sklearn/ensemble/forest.py:246: FutureWarning: The default value of n_estimators will change from 10 in version 0.20 to 100 in 0.22.\n",
              "  \"10 in version 0.20 to 100 in 0.22.\", FutureWarning)\n"
            ]
          },
          "output_type" : "display_data"
        },
        {
          "execution_count" : 53,
          "data" : {
            "text/plain" : [
              "RandomForestClassifier(bootstrap=True, class_weight=None, criterion='gini',\n",
              "            max_depth=None, max_features='auto', max_leaf_nodes=None,\n",
              "            min_impurity_decrease=0.0, min_impurity_split=None,\n",
              "            min_samples_leaf=1, min_samples_split=2,\n",
              "            min_weight_fraction_leaf=0.0, n_estimators=10, n_jobs=None,\n",
              "            oob_score=False, random_state=None, verbose=0,\n",
              "            warm_start=False)"
            ]
          },
          "metadata" : {
            "name" : "Out",
            "type" : ""
          },
          "output_type" : "execute_result"
        }
      ]
    },
    {
      "cell_type" : "code",
      "execution_count" : 54,
      "metadata" : {
        "language" : "scala"
      },
      "language" : "scala",
      "source" : [
        "y_pred = rf.predict(X_test)\n",
        "print (\"The accuracy score is: \", round(accuracy_score(y_pred, y_test),4))\n",
        "\n",
        "y_score = rf.predict_proba(X_test)[:,1]\n",
        "FPR, TPR, _ = roc_curve(y_test, y_score)\n",
        "ROC_AUC = auc(FPR, TPR)\n",
        "print (\"The ROC_AUC score is:\", round(ROC_AUC,4))"
      ],
      "outputs" : [
        {
          "name" : "stdout",
          "text" : [
            "The accuracy score is:  0.715\n",
            "The ROC_AUC score is: 0.7318\n"
          ],
          "output_type" : "stream"
        }
      ]
    },
    {
      "cell_type" : "code",
      "execution_count" : 55,
      "metadata" : {
        "language" : "scala"
      },
      "language" : "scala",
      "source" : [
        "plt.figure(figsize =[5, 5])\n",
        "plt.plot(FPR, TPR, label= 'ROC curve(area = %0.2f)'%ROC_AUC, linewidth= 2)\n",
        "plt.plot([0,1],[0,1], 'k--', linewidth = 2)\n",
        "plt.xlim([0.0,1.0])ki\n",
        "plt.ylim([0.0,1.0])\n",
        "plt.xlabel('False Positive Rate')\n",
        "plt.ylabel('True Positive Rate')\n",
        "plt.show()"
      ],
      "outputs" : [
        {
          "data" : {
            "image/png" : "[encoded data removed]"
          },
          "output_type" : "display_data"
        }
      ]
    },
    {
      "cell_type" : "markdown",
      "execution_count" : 56,
      "metadata" : {
        "language" : "text"
      },
      "language" : "text",
      "source" : [
        "### KNN Classifier"
      ],
      "outputs" : [
      ]
    },
    {
      "cell_type" : "code",
      "execution_count" : 57,
      "metadata" : {
        "language" : "scala"
      },
      "language" : "scala",
      "source" : [
        "from sklearn.neighbors import KNeighborsClassifier\n",
        "knn = KNeighborsClassifier()\n",
        "knn.fit(X_train, y_train)"
      ],
      "outputs" : [
        {
          "execution_count" : 57,
          "data" : {
            "text/plain" : [
              "KNeighborsClassifier(algorithm='auto', leaf_size=30, metric='minkowski',\n",
              "           metric_params=None, n_jobs=None, n_neighbors=5, p=2,\n",
              "           weights='uniform')"
            ]
          },
          "metadata" : {
            "name" : "Out",
            "type" : ""
          },
          "output_type" : "execute_result"
        }
      ]
    },
    {
      "cell_type" : "code",
      "execution_count" : 58,
      "metadata" : {
        "language" : "scala"
      },
      "language" : "scala",
      "source" : [
        "y_pred = knn.predict(X_test)\n",
        "print (\"The accuracy score is:\", round(accuracy_score(y_pred, y_test),4))\n",
        "\n",
        "y_score = knn.predict_proba(X_test)[:,1]\n",
        "FPR, TPR, _ = roc_curve(y_test, y_score)\n",
        "ROC_AUC = auc(FPR, TPR)\n",
        "print (\"The ROC_AUC score is:\", round(ROC_AUC,4))"
      ],
      "outputs" : [
        {
          "name" : "stdout",
          "text" : [
            "The accuracy score is: 0.735\n",
            "The ROC_AUC score is: 0.6996\n"
          ],
          "output_type" : "stream"
        }
      ]
    },
    {
      "cell_type" : "code",
      "execution_count" : 59,
      "metadata" : {
        "language" : "scala"
      },
      "language" : "scala",
      "source" : [
        "plt.figure(figsize =[5, 5])\n",
        "plt.plot(FPR, TPR, label= 'ROC curve(area = %0.2f)'%ROC_AUC, linewidth= 2)\n",
        "plt.plot([0,1],[0,1], 'k--', linewidth = 2)\n",
        "plt.xlim([0.0,1.0])\n",
        "plt.ylim([0.0,1.0])\n",
        "plt.xlabel('False Positive Rate')\n",
        "plt.ylabel('True Positive Rate')\n",
        "plt.show()"
      ],
      "outputs" : [
        {
          "data" : {
            "image/png" : "[encoded data removed]"
          },
          "output_type" : "display_data"
        }
      ]
    },
    {
      "cell_type" : "markdown",
      "execution_count" : 60,
      "metadata" : {
        "language" : "text"
      },
      "language" : "text",
      "source" : [
        "### XGBoost Classifier"
      ],
      "outputs" : [
      ]
    },
    {
      "cell_type" : "code",
      "execution_count" : 61,
      "metadata" : {
        "language" : "scala"
      },
      "language" : "scala",
      "source" : [
        "from xgboost import XGBClassifier\n",
        "xgb = XGBClassifier()\n",
        "xgb.fit(X_train, y_train)"
      ],
      "outputs" : [
        {
          "execution_count" : 61,
          "data" : {
            "text/plain" : [
              "XGBClassifier(base_score=0.5, booster='gbtree', colsample_bylevel=1,\n",
              "       colsample_bynode=1, colsample_bytree=1, gamma=0, learning_rate=0.1,\n",
              "       max_delta_step=0, max_depth=3, min_child_weight=1, missing=None,\n",
              "       n_estimators=100, n_jobs=1, nthread=None,\n",
              "       objective='binary:logistic', random_state=0, reg_alpha=0,\n",
              "       reg_lambda=1, scale_pos_weight=1, seed=None, silent=None,\n",
              "       subsample=1, verbosity=1)"
            ]
          },
          "metadata" : {
            "name" : "Out",
            "type" : ""
          },
          "output_type" : "execute_result"
        }
      ]
    },
    {
      "cell_type" : "code",
      "execution_count" : 62,
      "metadata" : {
        "language" : "scala"
      },
      "language" : "scala",
      "source" : [
        "y_pred = xgb.predict(X_test)\n",
        "print (\"The accuracy score is:\", round(accuracy_score(y_pred, y_test),4))\n",
        "\n",
        "y_score = xgb.predict_proba(X_test)[:,1]\n",
        "FPR, TPR, _ = roc_curve(y_test, y_score)\n",
        "ROC_AUC = auc(FPR, TPR)\n",
        "print (\"The ROC_AUC score is:\", round(ROC_AUC,4))"
      ],
      "outputs" : [
        {
          "name" : "stdout",
          "text" : [
            "The accuracy score is: 0.7575\n",
            "The ROC_AUC score is: 0.77\n"
          ],
          "output_type" : "stream"
        }
      ]
    },
    {
      "cell_type" : "code",
      "execution_count" : 63,
      "metadata" : {
        "language" : "scala"
      },
      "language" : "scala",
      "source" : [
        "plt.figure(figsize =[5, 5])\n",
        "plt.plot(FPR, TPR, label= 'ROC curve(area = %0.2f)'%ROC_AUC, linewidth= 2)\n",
        "plt.plot([0,1],[0,1], 'k--', linewidth = 2)\n",
        "plt.xlim([0.0,1.0])\n",
        "plt.ylim([0.0,1.0])\n",
        "plt.xlabel('False Positive Rate')\n",
        "plt.ylabel('True Positive Rate')\n",
        "plt.show()"
      ],
      "outputs" : [
        {
          "data" : {
            "image/png" : "[encoded data removed]"
          },
          "output_type" : "display_data"
        }
      ]
    },
    {
      "cell_type" : "code",
      "execution_count" : 64,
      "metadata" : {
        "language" : "scala"
      },
      "language" : "scala",
      "source" : [
        "from sklearn.metrics import confusion_matrix\n",
        "confusion_matrix(y_test, y_pred)"
      ],
      "outputs" : [
        {
          "execution_count" : 64,
          "data" : {
            "text/plain" : [
              "array([[250,  28],\n",
              "       [ 69,  53]])"
            ]
          },
          "metadata" : {
            "name" : "Out",
            "type" : ""
          },
          "output_type" : "execute_result"
        }
      ]
    },
    {
      "cell_type" : "markdown",
      "execution_count" : 65,
      "metadata" : {
        "language" : "text"
      },
      "language" : "text",
      "source" : [
        "## Hypertuning the Parameters"
      ],
      "outputs" : [
      ]
    },
    {
      "cell_type" : "markdown",
      "execution_count" : 66,
      "metadata" : {
        "language" : "text"
      },
      "language" : "text",
      "source" : [
        "Based on the accuracy and ROC_AUC scores, the best model is **XGBoost Classifer**. \n",
        "> The accuracy score is: 0.7575 <br>\n",
        "The ROC_AUC score is: 0.77\n",
        "\n",
        "To further improve the model, we will search for the best parameters using Randomized Search Cross Validation."
      ],
      "outputs" : [
      ]
    },
    {
      "cell_type" : "code",
      "execution_count" : 67,
      "metadata" : {
        "language" : "scala"
      },
      "language" : "scala",
      "source" : [
        "parameter_candidates = {\n",
        "        'min_child_weight': [1, 5, 10],\n",
        "        'colsample_bytree': [0.2, 0.5, 1.0],\n",
        "        'max_depth': [3, 4, 5],\n",
        "        'sub_sample': [1, 2]\n",
        "        }"
      ],
      "outputs" : [
      ]
    },
    {
      "cell_type" : "code",
      "execution_count" : 68,
      "metadata" : {
        "language" : "scala"
      },
      "language" : "scala",
      "source" : [
        "from sklearn.model_selection import GridSearchCV\n",
        "\n",
        "xgb = XGBClassifier()\n",
        "search = GridSearchCV(estimator=xgb, param_grid=parameter_candidates, \\\n",
        "                            cv=5, scoring='roc_auc', iid=True)\n",
        "search.fit(X_train, y_train)"
      ],
      "outputs" : [
        {
          "execution_count" : 68,
          "data" : {
            "text/plain" : [
              "GridSearchCV(cv=5, error_score='raise-deprecating',\n",
              "       estimator=XGBClassifier(base_score=0.5, booster='gbtree', colsample_bylevel=1,\n",
              "       colsample_bynode=1, colsample_bytree=1, gamma=0, learning_rate=0.1,\n",
              "       max_delta_step=0, max_depth=3, min_child_weight=1, missing=None,\n",
              "       n_estimators=100, n_jobs=1, nthread=None,\n",
              "       objective='binary:logistic', random_state=0, reg_alpha=0,\n",
              "       reg_lambda=1, scale_pos_weight=1, seed=None, silent=None,\n",
              "       subsample=1, verbosity=1),\n",
              "       fit_params=None, iid=True, n_jobs=None,\n",
              "       param_grid={'min_child_weight': [1, 5, 10], 'colsample_bytree': [0.2, 0.5, 1.0], 'max_depth': [3, 4, 5], 'sub_sample': [1, 2]},\n",
              "       pre_dispatch='2*n_jobs', refit=True, return_train_score='warn',\n",
              "       scoring='roc_auc', verbose=0)"
            ]
          },
          "metadata" : {
            "name" : "Out",
            "type" : ""
          },
          "output_type" : "execute_result"
        }
      ]
    },
    {
      "cell_type" : "code",
      "execution_count" : 69,
      "metadata" : {
        "language" : "scala"
      },
      "language" : "scala",
      "source" : [
        "search.best_params_"
      ],
      "outputs" : [
        {
          "execution_count" : 69,
          "data" : {
            "text/plain" : [
              "{'colsample_bytree': 0.2,\n",
              " 'max_depth': 3,\n",
              " 'min_child_weight': 1,\n",
              " 'sub_sample': 1}"
            ]
          },
          "metadata" : {
            "name" : "Out",
            "type" : ""
          },
          "output_type" : "execute_result"
        }
      ]
    },
    {
      "cell_type" : "code",
      "execution_count" : 70,
      "metadata" : {
        "language" : "scala"
      },
      "language" : "scala",
      "source" : [
        "xgb_ = search.best_estimator_"
      ],
      "outputs" : [
      ]
    },
    {
      "cell_type" : "code",
      "execution_count" : 71,
      "metadata" : {
        "language" : "scala"
      },
      "language" : "scala",
      "source" : [
        "y_pred = xgb_.predict(X_test)\n",
        "print (\"The accuracy score is:\", round(accuracy_score(y_pred, y_test),4))\n",
        "\n",
        "y_score = xgb_.predict_proba(X_test)[:,1]\n",
        "FPR, TPR, _ = roc_curve(y_test, y_score)\n",
        "ROC_AUC = auc(FPR, TPR)\n",
        "print (\"The ROC_AUC score is:\", round(ROC_AUC,4))"
      ],
      "outputs" : [
        {
          "name" : "stdout",
          "text" : [
            "The accuracy score is: 0.7525\n",
            "The ROC_AUC score is: 0.7731\n"
          ],
          "output_type" : "stream"
        }
      ]
    },
    {
      "cell_type" : "code",
      "execution_count" : 72,
      "metadata" : {
        "language" : "scala"
      },
      "language" : "scala",
      "source" : [
        "plt.figure(figsize =[5, 5])\n",
        "plt.plot(FPR, TPR, label= 'ROC curve(area = %0.2f)'%ROC_AUC, linewidth= 2)\n",
        "plt.plot([0,1],[0,1], 'k--', linewidth = 2)\n",
        "plt.xlim([0.0,1.0])\n",
        "plt.ylim([0.0,1.0])\n",
        "plt.xlabel('False Positive Rate')\n",
        "plt.ylabel('True Positive Rate')\n",
        "plt.show()"
      ],
      "outputs" : [
        {
          "data" : {
            "image/png" : "[encoded data removed]"
          },
          "output_type" : "display_data"
        }
      ]
    },
    {
      "cell_type" : "code",
      "execution_count" : 73,
      "metadata" : {
        "language" : "scala"
      },
      "language" : "scala",
      "source" : [
        "confusion_matrix(y_test, y_pred)"
      ],
      "outputs" : [
        {
          "execution_count" : 73,
          "data" : {
            "text/plain" : [
              "array([[248,  30],\n",
              "       [ 69,  53]])"
            ]
          },
          "metadata" : {
            "name" : "Out",
            "type" : ""
          },
          "output_type" : "execute_result"
        }
      ]
    },
    {
      "cell_type" : "markdown",
      "execution_count" : 74,
      "metadata" : {
        "language" : "text"
      },
      "language" : "text",
      "source" : [
        "There is little improvement and the ROC_AUC score while the accuracy score decreased. Further hypertuning may be required for a better model or we can stick with the default parameters."
      ],
      "outputs" : [
      ]
    },
    {
      "cell_type" : "markdown",
      "execution_count" : 75,
      "metadata" : {
        "language" : "text"
      },
      "language" : "text",
      "source" : [
        "## Feature Importances"
      ],
      "outputs" : [
      ]
    },
    {
      "cell_type" : "code",
      "execution_count" : 76,
      "metadata" : {
        "language" : "scala"
      },
      "language" : "scala",
      "source" : [
        "feature_importances = pd.DataFrame(xgb_.feature_importances_,\n",
        "                                   index = X.columns,\n",
        "                                    columns=['importance'])\n",
        "feature_importances.sort_values(by='importance', ascending=False).head(10)"
      ],
      "outputs" : [
        {
          "execution_count" : 76,
          "data" : {
            "text/html" : [
              "<div>\n",
              "<style scoped>\n",
              "    .dataframe tbody tr th:only-of-type {\n",
              "        vertical-align: middle;\n",
              "    }\n",
              "\n",
              "    .dataframe tbody tr th {\n",
              "        vertical-align: top;\n",
              "    }\n",
              "\n",
              "    .dataframe thead th {\n",
              "        text-align: right;\n",
              "    }\n",
              "</style>\n",
              "<table border=\"1\" class=\"dataframe\">\n",
              "  <thead>\n",
              "    <tr style=\"text-align: right;\">\n",
              "      <th></th>\n",
              "      <th>importance</th>\n",
              "    </tr>\n",
              "  </thead>\n",
              "  <tbody>\n",
              "    <tr>\n",
              "      <th>checking_status_&lt;0DM</th>\n",
              "      <td>0.071036</td>\n",
              "    </tr>\n",
              "    <tr>\n",
              "      <th>checking_status_None</th>\n",
              "      <td>0.066027</td>\n",
              "    </tr>\n",
              "    <tr>\n",
              "      <th>credit_history_Critical_acct_other_credits_existing</th>\n",
              "      <td>0.041791</td>\n",
              "    </tr>\n",
              "    <tr>\n",
              "      <th>housing_own</th>\n",
              "      <td>0.037214</td>\n",
              "    </tr>\n",
              "    <tr>\n",
              "      <th>credit_history_Existing_credits_paid_till_now</th>\n",
              "      <td>0.033357</td>\n",
              "    </tr>\n",
              "    <tr>\n",
              "      <th>other_payment_plans_bank</th>\n",
              "      <td>0.026905</td>\n",
              "    </tr>\n",
              "    <tr>\n",
              "      <th>duration</th>\n",
              "      <td>0.025476</td>\n",
              "    </tr>\n",
              "    <tr>\n",
              "      <th>credit_history_No_credits_taken_or_all_paid</th>\n",
              "      <td>0.023196</td>\n",
              "    </tr>\n",
              "    <tr>\n",
              "      <th>purpose_used_car</th>\n",
              "      <td>0.023150</td>\n",
              "    </tr>\n",
              "    <tr>\n",
              "      <th>savings_status_&lt;100DM</th>\n",
              "      <td>0.023101</td>\n",
              "    </tr>\n",
              "  </tbody>\n",
              "</table>\n",
              "</div>"
            ],
            "text/plain" : [
              "                                                    importance\n",
              "checking_status_<0DM                                  0.071036\n",
              "checking_status_None                                  0.066027\n",
              "credit_history_Critical_acct_other_credits_exis...    0.041791\n",
              "housing_own                                           0.037214\n",
              "credit_history_Existing_credits_paid_till_now         0.033357\n",
              "other_payment_plans_bank                              0.026905\n",
              "duration                                              0.025476\n",
              "credit_history_No_credits_taken_or_all_paid           0.023196\n",
              "purpose_used_car                                      0.023150\n",
              "savings_status_<100DM                                 0.023101"
            ]
          },
          "metadata" : {
            "name" : "Out",
            "type" : ""
          },
          "output_type" : "execute_result"
        }
      ]
    },
    {
      "cell_type" : "markdown",
      "execution_count" : 77,
      "metadata" : {
        "language" : "text"
      },
      "language" : "text",
      "source" : [
        "# Conclusion\n",
        "***"
      ],
      "outputs" : [
      ]
    },
    {
      "cell_type" : "markdown",
      "execution_count" : 78,
      "metadata" : {
        "language" : "text"
      },
      "language" : "text",
      "source" : [
        "Based on the analysis, the most important factors considered whether a loan application is accepted or not are checking status, credit history, and housing. An XGBoost Classifier model can be used to predict the probability of a loan application to get accepted or not."
      ],
      "outputs" : [
      ]
    }
  ]
}